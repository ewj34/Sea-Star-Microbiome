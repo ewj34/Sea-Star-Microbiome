{
 "cells": [
  {
   "cell_type": "code",
   "execution_count": 2,
   "metadata": {
    "collapsed": false
   },
   "outputs": [],
   "source": [
    "import pandas as pd\n",
    "import pandas.rpy.common as com\n",
    "import matplotlib.pyplot as plt\n",
    "from matplotlib.collections import LineCollection, PolyCollection\n",
    "from itertools import cycle\n",
    "import numpy as np\n",
    "from IPython.display import FileLink"
   ]
  },
  {
   "cell_type": "code",
   "execution_count": 3,
   "metadata": {
    "collapsed": false
   },
   "outputs": [],
   "source": [
    "%load_ext rpy2.ipython\n",
    "%matplotlib inline"
   ]
  },
  {
   "cell_type": "code",
   "execution_count": 4,
   "metadata": {
    "collapsed": false
   },
   "outputs": [
    {
     "data": {
      "text/html": [
       "<div>\n",
       "<table border=\"1\" class=\"dataframe\">\n",
       "  <thead>\n",
       "    <tr style=\"text-align: right;\">\n",
       "      <th></th>\n",
       "      <th>Sample_number</th>\n",
       "      <th>96 Well Plate Location</th>\n",
       "      <th>Sample Amount</th>\n",
       "      <th>sample_id</th>\n",
       "      <th>Genus Species</th>\n",
       "      <th>Sample Type</th>\n",
       "      <th>star</th>\n",
       "      <th>location</th>\n",
       "    </tr>\n",
       "  </thead>\n",
       "  <tbody>\n",
       "    <tr>\n",
       "      <th>0</th>\n",
       "      <td>1</td>\n",
       "      <td>P1 - E12</td>\n",
       "      <td>1 mL</td>\n",
       "      <td>CF1_CF</td>\n",
       "      <td>Pentaceraster spp.</td>\n",
       "      <td>CF</td>\n",
       "      <td>star</td>\n",
       "      <td>Australia</td>\n",
       "    </tr>\n",
       "    <tr>\n",
       "      <th>1</th>\n",
       "      <td>2</td>\n",
       "      <td>P1 - F12</td>\n",
       "      <td>1 mL</td>\n",
       "      <td>CF2_CF</td>\n",
       "      <td>Pentaceraster spp.</td>\n",
       "      <td>CF</td>\n",
       "      <td>star</td>\n",
       "      <td>Australia</td>\n",
       "    </tr>\n",
       "    <tr>\n",
       "      <th>2</th>\n",
       "      <td>3</td>\n",
       "      <td>P1 - A1</td>\n",
       "      <td>0.1145 g</td>\n",
       "      <td>X8106_PC</td>\n",
       "      <td>Anthenea crassa</td>\n",
       "      <td>PC</td>\n",
       "      <td>star</td>\n",
       "      <td>Australia</td>\n",
       "    </tr>\n",
       "    <tr>\n",
       "      <th>3</th>\n",
       "      <td>4</td>\n",
       "      <td>P2 - A1</td>\n",
       "      <td>2 mL</td>\n",
       "      <td>X8532_CF</td>\n",
       "      <td>Anthenea crassa</td>\n",
       "      <td>CF</td>\n",
       "      <td>star</td>\n",
       "      <td>Australia</td>\n",
       "    </tr>\n",
       "    <tr>\n",
       "      <th>4</th>\n",
       "      <td>5</td>\n",
       "      <td>P1 - B1</td>\n",
       "      <td>0.109 g</td>\n",
       "      <td>X8533_TF</td>\n",
       "      <td>Anthenea crassa</td>\n",
       "      <td>TF</td>\n",
       "      <td>star</td>\n",
       "      <td>Australia</td>\n",
       "    </tr>\n",
       "  </tbody>\n",
       "</table>\n",
       "</div>"
      ],
      "text/plain": [
       "   Sample_number 96 Well Plate Location Sample Amount sample_id  \\\n",
       "0              1               P1 - E12          1 mL    CF1_CF   \n",
       "1              2               P1 - F12          1 mL    CF2_CF   \n",
       "2              3                P1 - A1      0.1145 g  X8106_PC   \n",
       "3              4                P2 - A1          2 mL  X8532_CF   \n",
       "4              5                P1 - B1       0.109 g  X8533_TF   \n",
       "\n",
       "        Genus Species Sample Type  star   location  \n",
       "0  Pentaceraster spp.          CF  star  Australia  \n",
       "1  Pentaceraster spp.          CF  star  Australia  \n",
       "2     Anthenea crassa          PC  star  Australia  \n",
       "3     Anthenea crassa          CF  star  Australia  \n",
       "4     Anthenea crassa          TF  star  Australia  "
      ]
     },
     "execution_count": 4,
     "metadata": {},
     "output_type": "execute_result"
    }
   ],
   "source": [
    "sample_df=pd.read_csv(\"data/sample_data.csv\")\n",
    "sample_df.rename(columns={\"sample\" : \"sample_id\"}, inplace=True)\n",
    "sample_df.head()"
   ]
  },
  {
   "cell_type": "code",
   "execution_count": 6,
   "metadata": {
    "collapsed": false
   },
   "outputs": [
    {
     "data": {
      "text/html": [
       "<div>\n",
       "<table border=\"1\" class=\"dataframe\">\n",
       "  <thead>\n",
       "    <tr style=\"text-align: right;\">\n",
       "      <th></th>\n",
       "      <th>sample_id</th>\n",
       "      <th>OTU</th>\n",
       "      <th>count</th>\n",
       "      <th>Sample_number</th>\n",
       "      <th>96 Well Plate Location</th>\n",
       "      <th>Sample Amount</th>\n",
       "      <th>Genus Species</th>\n",
       "      <th>Sample Type</th>\n",
       "      <th>star</th>\n",
       "      <th>location</th>\n",
       "    </tr>\n",
       "  </thead>\n",
       "  <tbody>\n",
       "    <tr>\n",
       "      <th>0</th>\n",
       "      <td>C10_CF</td>\n",
       "      <td>Sequence.1</td>\n",
       "      <td>0.000000</td>\n",
       "      <td>42</td>\n",
       "      <td>P2 - F2</td>\n",
       "      <td>2 mL</td>\n",
       "      <td>Hippasteria spinosa</td>\n",
       "      <td>CF</td>\n",
       "      <td>star</td>\n",
       "      <td>Washington</td>\n",
       "    </tr>\n",
       "    <tr>\n",
       "      <th>1</th>\n",
       "      <td>C10_CF</td>\n",
       "      <td>Sequence.2</td>\n",
       "      <td>0.014930</td>\n",
       "      <td>42</td>\n",
       "      <td>P2 - F2</td>\n",
       "      <td>2 mL</td>\n",
       "      <td>Hippasteria spinosa</td>\n",
       "      <td>CF</td>\n",
       "      <td>star</td>\n",
       "      <td>Washington</td>\n",
       "    </tr>\n",
       "    <tr>\n",
       "      <th>2</th>\n",
       "      <td>C10_CF</td>\n",
       "      <td>Sequence.3</td>\n",
       "      <td>0.000000</td>\n",
       "      <td>42</td>\n",
       "      <td>P2 - F2</td>\n",
       "      <td>2 mL</td>\n",
       "      <td>Hippasteria spinosa</td>\n",
       "      <td>CF</td>\n",
       "      <td>star</td>\n",
       "      <td>Washington</td>\n",
       "    </tr>\n",
       "    <tr>\n",
       "      <th>3</th>\n",
       "      <td>C10_CF</td>\n",
       "      <td>Sequence.4</td>\n",
       "      <td>0.000000</td>\n",
       "      <td>42</td>\n",
       "      <td>P2 - F2</td>\n",
       "      <td>2 mL</td>\n",
       "      <td>Hippasteria spinosa</td>\n",
       "      <td>CF</td>\n",
       "      <td>star</td>\n",
       "      <td>Washington</td>\n",
       "    </tr>\n",
       "    <tr>\n",
       "      <th>4</th>\n",
       "      <td>C10_CF</td>\n",
       "      <td>Sequence.5</td>\n",
       "      <td>0.084101</td>\n",
       "      <td>42</td>\n",
       "      <td>P2 - F2</td>\n",
       "      <td>2 mL</td>\n",
       "      <td>Hippasteria spinosa</td>\n",
       "      <td>CF</td>\n",
       "      <td>star</td>\n",
       "      <td>Washington</td>\n",
       "    </tr>\n",
       "  </tbody>\n",
       "</table>\n",
       "</div>"
      ],
      "text/plain": [
       "  sample_id         OTU     count  Sample_number 96 Well Plate Location  \\\n",
       "0    C10_CF  Sequence.1  0.000000             42                P2 - F2   \n",
       "1    C10_CF  Sequence.2  0.014930             42                P2 - F2   \n",
       "2    C10_CF  Sequence.3  0.000000             42                P2 - F2   \n",
       "3    C10_CF  Sequence.4  0.000000             42                P2 - F2   \n",
       "4    C10_CF  Sequence.5  0.084101             42                P2 - F2   \n",
       "\n",
       "  Sample Amount        Genus Species Sample Type  star    location  \n",
       "0          2 mL  Hippasteria spinosa          CF  star  Washington  \n",
       "1          2 mL  Hippasteria spinosa          CF  star  Washington  \n",
       "2          2 mL  Hippasteria spinosa          CF  star  Washington  \n",
       "3          2 mL  Hippasteria spinosa          CF  star  Washington  \n",
       "4          2 mL  Hippasteria spinosa          CF  star  Washington  "
      ]
     },
     "execution_count": 6,
     "metadata": {},
     "output_type": "execute_result"
    }
   ],
   "source": [
    "otu_df = pd.read_csv(\"data/EC_table.noMC.csv\", index_col=\"seq_id\")\n",
    "otu_df = otu_df.stack().to_frame(\"count\").reset_index()\n",
    "otu_df = otu_df.rename(columns={\"seq_id\" : \"OTU\", \"level_1\" : \"sample_id\"})\n",
    "#all_otus = pd.Series(otu_df[\"OTU\"].unique())\n",
    "sample_sums=otu_df.groupby(\"sample_id\")[\"count\"].sum().to_frame().reset_index()\n",
    "samples_less_than_1000=sample_sums[sample_sums[\"count\"]<1000][\"sample_id\"].values\n",
    "otu_df=otu_df[~otu_df[\"sample_id\"].isin(samples_less_than_1000)]\n",
    "\n",
    "otu_df = otu_df.set_index(\"sample_id\").join(sample_df.set_index(\"sample_id\")).reset_index()\n",
    "\n",
    "otu_df=otu_df[otu_df[\"star\"]==\"star\"]\n",
    "otu_df[\"count\"] = otu_df.groupby(\"sample_id\")[\"count\"].transform(lambda x: x / x.sum())\n",
    "otu_df.head()"
   ]
  },
  {
   "cell_type": "code",
   "execution_count": 7,
   "metadata": {
    "collapsed": false
   },
   "outputs": [],
   "source": [
    "%%R\n",
    "tree.full = ape::read.tree(\"data/variants.tree\")\n",
    "tip_otus = tree.full$tip.label"
   ]
  },
  {
   "cell_type": "code",
   "execution_count": 8,
   "metadata": {
    "collapsed": false
   },
   "outputs": [],
   "source": [
    "%Rpull tip_otus\n",
    "tip_otus = pd.Series(tip_otus)"
   ]
  },
  {
   "cell_type": "code",
   "execution_count": 9,
   "metadata": {
    "collapsed": true
   },
   "outputs": [],
   "source": [
    "COLORS=\\\n",
    "[\"#84b6ff\",\n",
    "\"#5dc100\",\n",
    "\"#8f44f3\",\n",
    "\"#c3a600\",\n",
    "\"#4982ff\",\n",
    "\"#e74700\",\n",
    "\"#01dd99\",\n",
    "\"#990091\",\n",
    "\"#00834e\",\n",
    "\"#ff44b1\",\n",
    "\"#f20042\",\n",
    "\"#006bc3\",\n",
    "\"#852f00\",\n",
    "\"#002168\",\n",
    "\"#e1c380\",\n",
    "\"#341d3a\",\n",
    "\"#cf0052\",\n",
    "\"#00557e\",\n",
    "\"#ff939e\",\n",
    "\"#5b5070\",\n",
    "\"#ffacd3\"]"
   ]
  },
  {
   "cell_type": "code",
   "execution_count": 17,
   "metadata": {
    "collapsed": false
   },
   "outputs": [],
   "source": [
    "def get_tree_df(tree_fn, to_remove=None):\n",
    "    %Rpush tree_fn\n",
    "    %R -n tree = ape::read.tree(tree_fn)\n",
    "    if to_remove is not None:\n",
    "        %Rpush to_remove\n",
    "        %R -n tree = ape::drop.tip(tree, to_remove, rooted = TRUE)\n",
    "    %R -n tree_dfs = phyloseq::tree_layout(tree, ladderize = \"right\")\n",
    "    %R -n edge_df = data.frame(tree_dfs$edgeDT)\n",
    "    %R -n vert_df = data.frame(tree_dfs$vertDT)\n",
    "    edge_df = com.load_data(\"edge_df\")\n",
    "    vert_df = com.load_data(\"vert_df\")\n",
    "    edge_df.y = edge_df.y - 0.5\n",
    "    vert_df.vmax = vert_df.vmax - 0.5\n",
    "    vert_df.vmin = vert_df.vmin - 0.5\n",
    "    return edge_df, vert_df\n",
    "\n",
    "def get_tax_strip_info(edge_df):\n",
    "    tip_df=e[e.OTU!=\"NA\"]\n",
    "    max_right=tip_df.xright.max()*1.15\n",
    "    buffer = max_right * 0.01\n",
    "    verts = tip_df.apply(lambda row: [(row[\"xright\"] + buffer, row[\"y\"] - 0.5), \n",
    "                                      (row[\"xright\"] + buffer, row[\"y\"] + 0.5),\n",
    "                                      (max_right, row[\"y\"] + 0.5), \n",
    "                                      (max_right, row[\"y\"] - 0.5)], axis = 1).values\n",
    "    return verts\n",
    "\n",
    "def get_tax_strip_colors(edge_df, tax_df, color_rank=\"Rank4\"):\n",
    "    tip_df=e[e.OTU!=\"NA\"]\n",
    "    OTUs=tip_df[\"OTU\"]\n",
    "    taxa=tax_df[tax_df[\"OTU\"].isin(OTUs)][color_rank].unique()\n",
    "    color_d = dict([(taxon, color) for taxon, color in zip(taxa, cycle(COLORS))])\n",
    "    color_d[np.nan] = \"#555555\"\n",
    "    tmp=tip_df.set_index(\"OTU\").join(tax_df.set_index(\"OTU\"))\n",
    "    tmp.reset_index(inplace=True)\n",
    "    tmp[\"color\"]=tmp[color_rank].map(color_d)\n",
    "    return tmp[[\"OTU\",\"color\", color_rank]], color_d\n",
    "\n",
    "def get_otus_to_remove(rank, keepers, tax_df):\n",
    "    to_remove=tax_df[~tax_df[rank].isin(keepers)][\"OTU\"].values\n",
    "    return to_remove\n",
    "\n",
    "def get_heatmap_data(edge_df, otu_df, sample_df, tissue_types):\n",
    "    tip_y_df=e[e.OTU!=\"NA\"][[\"OTU\",\"y\"]].set_index(\"OTU\")\n",
    "    otu_df_plot=otu_df.set_index(\"sample_id\").join(sample_df.set_index(\"sample_id\")).reset_index()\n",
    "    otu_df_plot=otu_df_plot[otu_df_plot[\"Sample Type\"].isin(tissue_types)]\n",
    "    matrix_df=otu_df_plot.pivot_table(index=\"OTU\", values=\"count\", columns=\"sample_id\").join(tip_y_df).dropna()\n",
    "    matrix_df.sort_values(\"y\", inplace=True)\n",
    "    matrix_df=matrix_df.drop(\"y\",1)\n",
    "    hm_top, hm_right = matrix_df.as_matrix().shape\n",
    "    return  hm_top, hm_right, matrix_df\n",
    "    \n",
    "def make_heatmap():\n",
    "    pass"
   ]
  },
  {
   "cell_type": "code",
   "execution_count": 73,
   "metadata": {
    "collapsed": false
   },
   "outputs": [],
   "source": [
    "#otu_df[otu_df[\"Sample Type\"]]"
   ]
  },
  {
   "cell_type": "code",
   "execution_count": 121,
   "metadata": {
    "collapsed": false
   },
   "outputs": [
    {
     "data": {
      "text/html": [
       "<div>\n",
       "<table border=\"1\" class=\"dataframe\">\n",
       "  <thead>\n",
       "    <tr style=\"text-align: right;\">\n",
       "      <th></th>\n",
       "      <th>Sample_number</th>\n",
       "      <th>96 Well Plate Location</th>\n",
       "      <th>Sample Amount</th>\n",
       "      <th>sample_id</th>\n",
       "      <th>Genus Species</th>\n",
       "      <th>Sample Type</th>\n",
       "      <th>star</th>\n",
       "      <th>location</th>\n",
       "    </tr>\n",
       "  </thead>\n",
       "  <tbody>\n",
       "    <tr>\n",
       "      <th>0</th>\n",
       "      <td>1</td>\n",
       "      <td>P1 - E12</td>\n",
       "      <td>1 mL</td>\n",
       "      <td>CF1_CF</td>\n",
       "      <td>Pentaceraster spp.</td>\n",
       "      <td>CF</td>\n",
       "      <td>star</td>\n",
       "      <td>Australia</td>\n",
       "    </tr>\n",
       "    <tr>\n",
       "      <th>1</th>\n",
       "      <td>2</td>\n",
       "      <td>P1 - F12</td>\n",
       "      <td>1 mL</td>\n",
       "      <td>CF2_CF</td>\n",
       "      <td>Pentaceraster spp.</td>\n",
       "      <td>CF</td>\n",
       "      <td>star</td>\n",
       "      <td>Australia</td>\n",
       "    </tr>\n",
       "    <tr>\n",
       "      <th>2</th>\n",
       "      <td>3</td>\n",
       "      <td>P1 - A1</td>\n",
       "      <td>0.1145 g</td>\n",
       "      <td>X8106_PC</td>\n",
       "      <td>Anthenea crassa</td>\n",
       "      <td>PC</td>\n",
       "      <td>star</td>\n",
       "      <td>Australia</td>\n",
       "    </tr>\n",
       "    <tr>\n",
       "      <th>3</th>\n",
       "      <td>4</td>\n",
       "      <td>P2 - A1</td>\n",
       "      <td>2 mL</td>\n",
       "      <td>X8532_CF</td>\n",
       "      <td>Anthenea crassa</td>\n",
       "      <td>CF</td>\n",
       "      <td>star</td>\n",
       "      <td>Australia</td>\n",
       "    </tr>\n",
       "    <tr>\n",
       "      <th>4</th>\n",
       "      <td>5</td>\n",
       "      <td>P1 - B1</td>\n",
       "      <td>0.109 g</td>\n",
       "      <td>X8533_TF</td>\n",
       "      <td>Anthenea crassa</td>\n",
       "      <td>TF</td>\n",
       "      <td>star</td>\n",
       "      <td>Australia</td>\n",
       "    </tr>\n",
       "  </tbody>\n",
       "</table>\n",
       "</div>"
      ],
      "text/plain": [
       "   Sample_number 96 Well Plate Location Sample Amount sample_id  \\\n",
       "0              1               P1 - E12          1 mL    CF1_CF   \n",
       "1              2               P1 - F12          1 mL    CF2_CF   \n",
       "2              3                P1 - A1      0.1145 g  X8106_PC   \n",
       "3              4                P2 - A1          2 mL  X8532_CF   \n",
       "4              5                P1 - B1       0.109 g  X8533_TF   \n",
       "\n",
       "        Genus Species Sample Type  star   location  \n",
       "0  Pentaceraster spp.          CF  star  Australia  \n",
       "1  Pentaceraster spp.          CF  star  Australia  \n",
       "2     Anthenea crassa          PC  star  Australia  \n",
       "3     Anthenea crassa          CF  star  Australia  \n",
       "4     Anthenea crassa          TF  star  Australia  "
      ]
     },
     "execution_count": 121,
     "metadata": {},
     "output_type": "execute_result"
    }
   ],
   "source": [
    "sample_df.head()"
   ]
  },
  {
   "cell_type": "code",
   "execution_count": 122,
   "metadata": {
    "collapsed": false
   },
   "outputs": [
    {
     "data": {
      "text/html": [
       "<div>\n",
       "<table border=\"1\" class=\"dataframe\">\n",
       "  <thead>\n",
       "    <tr style=\"text-align: right;\">\n",
       "      <th></th>\n",
       "      <th>sample_id</th>\n",
       "      <th>OTU</th>\n",
       "      <th>count</th>\n",
       "      <th>Sample_number</th>\n",
       "      <th>96 Well Plate Location</th>\n",
       "      <th>Sample Amount</th>\n",
       "      <th>Genus Species</th>\n",
       "      <th>Sample Type</th>\n",
       "      <th>star</th>\n",
       "      <th>location</th>\n",
       "    </tr>\n",
       "  </thead>\n",
       "  <tbody>\n",
       "    <tr>\n",
       "      <th>0</th>\n",
       "      <td>C10_CF</td>\n",
       "      <td>Sequence.1</td>\n",
       "      <td>0.000000</td>\n",
       "      <td>42</td>\n",
       "      <td>P2 - F2</td>\n",
       "      <td>2 mL</td>\n",
       "      <td>Hippasteria spinosa</td>\n",
       "      <td>CF</td>\n",
       "      <td>star</td>\n",
       "      <td>Washington</td>\n",
       "    </tr>\n",
       "    <tr>\n",
       "      <th>1</th>\n",
       "      <td>C10_CF</td>\n",
       "      <td>Sequence.2</td>\n",
       "      <td>0.014930</td>\n",
       "      <td>42</td>\n",
       "      <td>P2 - F2</td>\n",
       "      <td>2 mL</td>\n",
       "      <td>Hippasteria spinosa</td>\n",
       "      <td>CF</td>\n",
       "      <td>star</td>\n",
       "      <td>Washington</td>\n",
       "    </tr>\n",
       "    <tr>\n",
       "      <th>2</th>\n",
       "      <td>C10_CF</td>\n",
       "      <td>Sequence.3</td>\n",
       "      <td>0.000000</td>\n",
       "      <td>42</td>\n",
       "      <td>P2 - F2</td>\n",
       "      <td>2 mL</td>\n",
       "      <td>Hippasteria spinosa</td>\n",
       "      <td>CF</td>\n",
       "      <td>star</td>\n",
       "      <td>Washington</td>\n",
       "    </tr>\n",
       "    <tr>\n",
       "      <th>3</th>\n",
       "      <td>C10_CF</td>\n",
       "      <td>Sequence.4</td>\n",
       "      <td>0.000000</td>\n",
       "      <td>42</td>\n",
       "      <td>P2 - F2</td>\n",
       "      <td>2 mL</td>\n",
       "      <td>Hippasteria spinosa</td>\n",
       "      <td>CF</td>\n",
       "      <td>star</td>\n",
       "      <td>Washington</td>\n",
       "    </tr>\n",
       "    <tr>\n",
       "      <th>4</th>\n",
       "      <td>C10_CF</td>\n",
       "      <td>Sequence.5</td>\n",
       "      <td>0.084101</td>\n",
       "      <td>42</td>\n",
       "      <td>P2 - F2</td>\n",
       "      <td>2 mL</td>\n",
       "      <td>Hippasteria spinosa</td>\n",
       "      <td>CF</td>\n",
       "      <td>star</td>\n",
       "      <td>Washington</td>\n",
       "    </tr>\n",
       "  </tbody>\n",
       "</table>\n",
       "</div>"
      ],
      "text/plain": [
       "  sample_id         OTU     count  Sample_number 96 Well Plate Location  \\\n",
       "0    C10_CF  Sequence.1  0.000000             42                P2 - F2   \n",
       "1    C10_CF  Sequence.2  0.014930             42                P2 - F2   \n",
       "2    C10_CF  Sequence.3  0.000000             42                P2 - F2   \n",
       "3    C10_CF  Sequence.4  0.000000             42                P2 - F2   \n",
       "4    C10_CF  Sequence.5  0.084101             42                P2 - F2   \n",
       "\n",
       "  Sample Amount        Genus Species Sample Type  star    location  \n",
       "0          2 mL  Hippasteria spinosa          CF  star  Washington  \n",
       "1          2 mL  Hippasteria spinosa          CF  star  Washington  \n",
       "2          2 mL  Hippasteria spinosa          CF  star  Washington  \n",
       "3          2 mL  Hippasteria spinosa          CF  star  Washington  \n",
       "4          2 mL  Hippasteria spinosa          CF  star  Washington  "
      ]
     },
     "execution_count": 122,
     "metadata": {},
     "output_type": "execute_result"
    }
   ],
   "source": [
    "otu_df.head()"
   ]
  },
  {
   "cell_type": "code",
   "execution_count": 10,
   "metadata": {
    "collapsed": false,
    "scrolled": true
   },
   "outputs": [
    {
     "data": {
      "text/plain": [
       "array(['Sequence.8', 'Sequence.36', 'Sequence.16', 'Sequence.41',\n",
       "       'Sequence.24', 'Sequence.1', 'Sequence.54', 'Sequence.48',\n",
       "       'Sequence.12', 'Sequence.4', 'Sequence.56', 'Sequence.23',\n",
       "       'Sequence.44', 'Sequence.7', 'Sequence.49', 'Sequence.57',\n",
       "       'Sequence.38', 'Sequence.2', 'Sequence.100', 'Sequence.33',\n",
       "       'Sequence.166', 'Sequence.174', 'Sequence.6', 'Sequence.108',\n",
       "       'Sequence.178', 'Sequence.9', 'Sequence.202', 'Sequence.156',\n",
       "       'Sequence.176', 'Sequence.11', 'Sequence.14', 'Sequence.215',\n",
       "       'Sequence.5', 'Sequence.32', 'Sequence.265', 'Sequence.151',\n",
       "       'Sequence.337', 'Sequence.27', 'Sequence.204', 'Sequence.268',\n",
       "       'Sequence.206', 'Sequence.21', 'Sequence.18', 'Sequence.25',\n",
       "       'Sequence.143', 'Sequence.182', 'Sequence.122', 'Sequence.311',\n",
       "       'Sequence.65', 'Sequence.1094', 'Sequence.85', 'Sequence.13',\n",
       "       'Sequence.26', 'Sequence.22', 'Sequence.173', 'Sequence.123',\n",
       "       'Sequence.37', 'Sequence.238', 'Sequence.89', 'Sequence.91',\n",
       "       'Sequence.17', 'Sequence.30', 'Sequence.751', 'Sequence.19',\n",
       "       'Sequence.1508', 'Sequence.164', 'Sequence.42', 'Sequence.272',\n",
       "       'Sequence.130', 'Sequence.133', 'Sequence.258', 'Sequence.271',\n",
       "       'Sequence.236', 'Sequence.34', 'Sequence.47'], dtype=object)"
      ]
     },
     "execution_count": 10,
     "metadata": {},
     "output_type": "execute_result"
    }
   ],
   "source": [
    "N = 30\n",
    "\n",
    "top_N_otus_max = (\n",
    "    otu_df\n",
    "        .sort_values(\"count\", ascending=False)\n",
    "        .groupby([\"OTU\", \"Sample Type\"], as_index=False)\n",
    "        .first()\n",
    "        .sort_values(\"count\", ascending=False)\n",
    "        .groupby(\"Sample Type\")\n",
    "        .head(N)\n",
    ")[\"OTU\"].unique()\n",
    "\n",
    "top_N_otus_max"
   ]
  },
  {
   "cell_type": "code",
   "execution_count": 12,
   "metadata": {
    "collapsed": false,
    "scrolled": true
   },
   "outputs": [
    {
     "data": {
      "text/plain": [
       "array(['Sequence.4', 'Sequence.6', 'Sequence.5', 'Sequence.12',\n",
       "       'Sequence.9', 'Sequence.8', 'Sequence.2', 'Sequence.24',\n",
       "       'Sequence.1', 'Sequence.13', 'Sequence.16', 'Sequence.17',\n",
       "       'Sequence.21', 'Sequence.19', 'Sequence.11', 'Sequence.18',\n",
       "       'Sequence.14', 'Sequence.36', 'Sequence.30', 'Sequence.26',\n",
       "       'Sequence.44', 'Sequence.41', 'Sequence.20', 'Sequence.23',\n",
       "       'Sequence.37', 'Sequence.39', 'Sequence.54', 'Sequence.43',\n",
       "       'Sequence.48', 'Sequence.7', 'Sequence.29', 'Sequence.25',\n",
       "       'Sequence.33', 'Sequence.35', 'Sequence.57', 'Sequence.22',\n",
       "       'Sequence.56', 'Sequence.59', 'Sequence.38', 'Sequence.34',\n",
       "       'Sequence.83', 'Sequence.66', 'Sequence.49', 'Sequence.108',\n",
       "       'Sequence.47', 'Sequence.65', 'Sequence.42', 'Sequence.63',\n",
       "       'Sequence.46', 'Sequence.61', 'Sequence.69', 'Sequence.60',\n",
       "       'Sequence.40', 'Sequence.82', 'Sequence.58', 'Sequence.100',\n",
       "       'Sequence.122', 'Sequence.88', 'Sequence.70', 'Sequence.109'], dtype=object)"
      ]
     },
     "execution_count": 12,
     "metadata": {},
     "output_type": "execute_result"
    }
   ],
   "source": [
    "N = 60\n",
    "\n",
    "top_N_otus_mean = (\n",
    "    otu_df\n",
    "        .groupby([\"OTU\"], as_index=False)[\"count\"]\n",
    "        .mean()\n",
    "        .sort_values(\"count\", ascending=False)\n",
    "        #.groupby(\"Sample Type\")\n",
    "        .head(N)\n",
    ")[\"OTU\"].unique()\n",
    "\n",
    "top_N_otus_mean"
   ]
  },
  {
   "cell_type": "code",
   "execution_count": 13,
   "metadata": {
    "collapsed": false
   },
   "outputs": [],
   "source": [
    "top_N_union = set(top_N_otus_mean).union(set(top_N_otus_max))\n",
    "top_N_union = pd.Series(list(top_N_union))"
   ]
  },
  {
   "cell_type": "code",
   "execution_count": 14,
   "metadata": {
    "collapsed": false
   },
   "outputs": [
    {
     "name": "stdout",
     "output_type": "stream",
     "text": [
      "((75,), (60,), 94)\n"
     ]
    }
   ],
   "source": [
    "print(top_N_otus_max.shape, top_N_otus_mean.shape, len(top_N_union))"
   ]
  },
  {
   "cell_type": "code",
   "execution_count": 15,
   "metadata": {
    "collapsed": false
   },
   "outputs": [],
   "source": [
    "tax_df=pd.read_csv(\"data/tax_table.csv\")\n",
    "tax_df.rename(columns={\"seq_id\" : \"OTU\"}, inplace=True)"
   ]
  },
  {
   "cell_type": "code",
   "execution_count": 18,
   "metadata": {
    "collapsed": false
   },
   "outputs": [
    {
     "data": {
      "text/html": [
       "<div>\n",
       "<table border=\"1\" class=\"dataframe\">\n",
       "  <thead>\n",
       "    <tr style=\"text-align: right;\">\n",
       "      <th></th>\n",
       "      <th>V1</th>\n",
       "      <th>V2</th>\n",
       "      <th>edge.length</th>\n",
       "      <th>OTU</th>\n",
       "      <th>xleft</th>\n",
       "      <th>xright</th>\n",
       "      <th>y</th>\n",
       "      <th>x</th>\n",
       "      <th>label</th>\n",
       "    </tr>\n",
       "  </thead>\n",
       "  <tbody>\n",
       "    <tr>\n",
       "      <th>1</th>\n",
       "      <td>64</td>\n",
       "      <td>1</td>\n",
       "      <td>0.73252</td>\n",
       "      <td>Sequence.7</td>\n",
       "      <td>0.15492</td>\n",
       "      <td>0.88744</td>\n",
       "      <td>54.5</td>\n",
       "      <td>NaN</td>\n",
       "      <td>NA</td>\n",
       "    </tr>\n",
       "    <tr>\n",
       "      <th>2</th>\n",
       "      <td>68</td>\n",
       "      <td>2</td>\n",
       "      <td>0.00776</td>\n",
       "      <td>Sequence.41</td>\n",
       "      <td>0.47996</td>\n",
       "      <td>0.48772</td>\n",
       "      <td>50.5</td>\n",
       "      <td>NaN</td>\n",
       "      <td>NA</td>\n",
       "    </tr>\n",
       "    <tr>\n",
       "      <th>3</th>\n",
       "      <td>70</td>\n",
       "      <td>3</td>\n",
       "      <td>0.02586</td>\n",
       "      <td>Sequence.16</td>\n",
       "      <td>0.49821</td>\n",
       "      <td>0.52407</td>\n",
       "      <td>47.5</td>\n",
       "      <td>NaN</td>\n",
       "      <td>NA</td>\n",
       "    </tr>\n",
       "    <tr>\n",
       "      <th>4</th>\n",
       "      <td>70</td>\n",
       "      <td>4</td>\n",
       "      <td>0.00414</td>\n",
       "      <td>Sequence.36</td>\n",
       "      <td>0.49821</td>\n",
       "      <td>0.50235</td>\n",
       "      <td>48.5</td>\n",
       "      <td>NaN</td>\n",
       "      <td>NA</td>\n",
       "    </tr>\n",
       "    <tr>\n",
       "      <th>5</th>\n",
       "      <td>69</td>\n",
       "      <td>5</td>\n",
       "      <td>0.02523</td>\n",
       "      <td>Sequence.8</td>\n",
       "      <td>0.49806</td>\n",
       "      <td>0.52329</td>\n",
       "      <td>49.5</td>\n",
       "      <td>NaN</td>\n",
       "      <td>NA</td>\n",
       "    </tr>\n",
       "  </tbody>\n",
       "</table>\n",
       "</div>"
      ],
      "text/plain": [
       "   V1  V2  edge.length          OTU    xleft   xright     y   x label\n",
       "1  64   1      0.73252   Sequence.7  0.15492  0.88744  54.5 NaN    NA\n",
       "2  68   2      0.00776  Sequence.41  0.47996  0.48772  50.5 NaN    NA\n",
       "3  70   3      0.02586  Sequence.16  0.49821  0.52407  47.5 NaN    NA\n",
       "4  70   4      0.00414  Sequence.36  0.49821  0.50235  48.5 NaN    NA\n",
       "5  69   5      0.02523   Sequence.8  0.49806  0.52329  49.5 NaN    NA"
      ]
     },
     "execution_count": 18,
     "metadata": {},
     "output_type": "execute_result"
    }
   ],
   "source": [
    "#to_remove=get_otus_to_remove(\"Rank3\", keepers=[\"Betaproteobacteria\",\"Alphaproteobacteria\"], \n",
    "#                             tax_df=tax_df)\n",
    "to_remove = tip_otus[~tip_otus.isin(top_N_otus_mean)].values\n",
    "\n",
    "e, v=get_tree_df(\"data/variants.tree\", to_remove=to_remove)\n",
    "OTU_position = e[e.OTU!=\"NA\"][[\"OTU\",\"y\"]].sort_values(\"y\")\n",
    "verts=get_tax_strip_info(e)\n",
    "color_rank = \"Rank4\"\n",
    "vert_colors, color_d=get_tax_strip_colors(edge_df=e, tax_df=tax_df, color_rank=color_rank)\n",
    "e.head()"
   ]
  },
  {
   "cell_type": "code",
   "execution_count": 19,
   "metadata": {
    "collapsed": false
   },
   "outputs": [
    {
     "data": {
      "text/html": [
       "<div>\n",
       "<table border=\"1\" class=\"dataframe\">\n",
       "  <thead>\n",
       "    <tr style=\"text-align: right;\">\n",
       "      <th></th>\n",
       "      <th>V1</th>\n",
       "      <th>x</th>\n",
       "      <th>vmin</th>\n",
       "      <th>vmax</th>\n",
       "      <th>y</th>\n",
       "      <th>label</th>\n",
       "    </tr>\n",
       "  </thead>\n",
       "  <tbody>\n",
       "    <tr>\n",
       "      <th>1</th>\n",
       "      <td>61</td>\n",
       "      <td>0.00000</td>\n",
       "      <td>39.142120</td>\n",
       "      <td>57.533203</td>\n",
       "      <td>48.837662</td>\n",
       "      <td>0.808</td>\n",
       "    </tr>\n",
       "    <tr>\n",
       "      <th>2</th>\n",
       "      <td>62</td>\n",
       "      <td>0.00014</td>\n",
       "      <td>55.566406</td>\n",
       "      <td>59.500000</td>\n",
       "      <td>NaN</td>\n",
       "      <td>NA</td>\n",
       "    </tr>\n",
       "    <tr>\n",
       "      <th>3</th>\n",
       "      <td>63</td>\n",
       "      <td>0.13903</td>\n",
       "      <td>53.507812</td>\n",
       "      <td>57.625000</td>\n",
       "      <td>NaN</td>\n",
       "      <td>NA</td>\n",
       "    </tr>\n",
       "    <tr>\n",
       "      <th>4</th>\n",
       "      <td>64</td>\n",
       "      <td>0.15492</td>\n",
       "      <td>52.515625</td>\n",
       "      <td>54.500000</td>\n",
       "      <td>NaN</td>\n",
       "      <td>NA</td>\n",
       "    </tr>\n",
       "    <tr>\n",
       "      <th>5</th>\n",
       "      <td>65</td>\n",
       "      <td>0.25096</td>\n",
       "      <td>51.531250</td>\n",
       "      <td>53.500000</td>\n",
       "      <td>NaN</td>\n",
       "      <td>NA</td>\n",
       "    </tr>\n",
       "  </tbody>\n",
       "</table>\n",
       "</div>"
      ],
      "text/plain": [
       "   V1        x       vmin       vmax          y  label\n",
       "1  61  0.00000  39.142120  57.533203  48.837662  0.808\n",
       "2  62  0.00014  55.566406  59.500000        NaN     NA\n",
       "3  63  0.13903  53.507812  57.625000        NaN     NA\n",
       "4  64  0.15492  52.515625  54.500000        NaN     NA\n",
       "5  65  0.25096  51.531250  53.500000        NaN     NA"
      ]
     },
     "execution_count": 19,
     "metadata": {},
     "output_type": "execute_result"
    }
   ],
   "source": [
    "v.head()"
   ]
  },
  {
   "cell_type": "code",
   "execution_count": 20,
   "metadata": {
    "collapsed": false
   },
   "outputs": [],
   "source": [
    "tissue_types=[\"CF\",\"TF\",\"PC\",\"G\"]\n",
    "tissue_types_d={\"CF\" : \"Coelomic Fluid\", \n",
    "                \"TF\" : \"Body Wall\", \n",
    "                \"PC\" : \"Pyloric Caeca\", \n",
    "                \"G\" : \"Gonads\"}"
   ]
  },
  {
   "cell_type": "code",
   "execution_count": 21,
   "metadata": {
    "collapsed": true
   },
   "outputs": [],
   "source": [
    "import matplotlib\n",
    "import copy\n",
    "import matplotlib.patches as mpatches"
   ]
  },
  {
   "cell_type": "code",
   "execution_count": 23,
   "metadata": {
    "collapsed": false,
    "scrolled": false
   },
   "outputs": [
    {
     "data": {
      "text/plain": [
       "([], [])"
      ]
     },
     "execution_count": 23,
     "metadata": {},
     "output_type": "execute_result"
    },
    {
     "data": {
      "image/png": "[encoded data removed]",
      "text/plain": [
       "<matplotlib.figure.Figure at 0x7fe47ad880d0>"
      ]
     },
     "metadata": {},
     "output_type": "display_data"
    }
   ],
   "source": [
    "fig, axs = plt.subplots(nrows=1, ncols=5, sharey=True, squeeze=True, \n",
    "                        gridspec_kw={\"width_ratios\" : [19*0.75,19,19,22,15]})\n",
    "fig.set_size_inches((9,8))\n",
    "\n",
    "ax = axs[0]\n",
    "\n",
    "heatmap_axs = axs[1:]\n",
    "\n",
    "vmin = otu_df[otu_df[\"count\"]>0][\"count\"].quantile(0.033)\n",
    "vmax = otu_df[otu_df[\"count\"]>0][\"count\"].quantile(1)\n",
    "\n",
    "ims=[]\n",
    "\n",
    "for ax_hm, tissue_type in zip(heatmap_axs, tissue_types):\n",
    "    hm_top, hm_right, matrix_df = get_heatmap_data(edge_df=e, \n",
    "                                                   otu_df=otu_df[[\"OTU\",\"sample_id\",\"count\"]], \n",
    "                                                   sample_df=sample_df, \n",
    "                                                   tissue_types=[tissue_type])\n",
    "    my_cmap = copy.copy(matplotlib.cm.viridis) # copy the default cmap. this the color scale \n",
    "    my_cmap.set_bad(color=\"#ffffff\") ##making the background white\n",
    "    im = ax_hm.pcolormesh(matrix_df.as_matrix(), edgecolors=\"#ffffff\", linewidth = 0.003,\n",
    "                 vmin=vmin, vmax=vmax,\n",
    "                 cmap=my_cmap, \n",
    "                 #aspect=\"auto\", \n",
    "                 #origin=\"upper\", \n",
    "                 #interpolation=\"nearest\",  \n",
    "                 #extent = [0.5,hm_right,0.35,hm_top+0.35], \n",
    "                 norm=matplotlib.colors.LogNorm(vmin=vmin, vmax=vmax))\n",
    "    ims.append(im)\n",
    "    ax_hm.set_frame_on(True)\n",
    "    for spine in ax_hm.spines.values():\n",
    "        spine.set_edgecolor('#151515')\n",
    "    ax_hm.set_xticklabels([]); ax_hm.set_xticks([])\n",
    "    ax_hm.set_yticklabels([]), ax_hm.set_yticks([])\n",
    "    #ax_hm.set_ylim([-e.y.max()*0.05,e.y.max()*1.05])\n",
    "    ax_hm.set_xlim((-0.5, matrix_df.shape[1]))\n",
    "    ax_hm.set_title(tissue_types_d[tissue_type], fontdict={\"family\" : \"serif\", \"size\" : 8})\n",
    "    \n",
    "#cbar_ax, cbar_kw = matplotlib.colorbar.make_axes(heatmap_axs[-1], \n",
    "#                                                 shrink=2, \n",
    "#                                                 pad=0.15,\n",
    "#                                                 orientation=\"horizontal\",\n",
    "#                                                 panchor=False)\n",
    "cbar_ax = fig.add_axes([0.4,0.09,0.45,0.015])\n",
    "cbar = fig.colorbar(ims[-3], cax=cbar_ax, orientation=\"horizontal\", extend=\"max\")\n",
    "cbar.set_label(label=\"Proportion\", fontdict={\"family\" : \"serif\", \"size\" : 12})\n",
    "## change the font for the Relative Proportion to match other stuff\n",
    "segments_h=[[(d.xleft, d.y),(d.xright, d.y)] for n,d in e.iterrows()]\n",
    "segments_v=[[(d.x, d.vmin),(d.x, d.vmax)] for n,d in v.iterrows()]\n",
    "lc_h = LineCollection(segments_h, linewidths=0.5, color=\"#353535\")\n",
    "lc_v = LineCollection(segments_v, linewidths=0.5, color=\"#353535\")\n",
    "ax.add_collection(lc_h)\n",
    "ax.add_collection(lc_v)\n",
    "\n",
    "legend_df = (\n",
    "    vert_colors\n",
    "        .set_index(\"OTU\")\n",
    "        .join(OTU_position.set_index(\"OTU\"))\n",
    "        .reset_index(drop=True)\n",
    "        .sort_values(\"y\", ascending=False)\n",
    "        .drop(\"y\", axis=1)\n",
    "        .drop_duplicates()\n",
    ")\n",
    "patches = []\n",
    "for i, row in legend_df.iterrows():\n",
    "    taxon = row[color_rank]\n",
    "    if pd.notnull(taxon):\n",
    "        if taxon.startswith(\"SAR324 clade\"):\n",
    "            taxon = \"SAR324 clade\"\n",
    "        patch = mpatches.Patch(color=row[\"color\"], label=taxon)\n",
    "        patches.append(patch)\n",
    "lgd = ax.legend(handles=patches, \n",
    "          bbox_to_anchor=(-2, 0.5), \n",
    "          loc=6, \n",
    "          ncol=1, \n",
    "          frameon=False, \n",
    "          handlelength=1.7,\n",
    "          handleheight=1.7,\n",
    "          labelspacing=1.25,\n",
    "          prop={\"family\" : \"serif\", \"size\" : 8, \"style\" : \"italic\"})\n",
    "\n",
    "rect_collection = PolyCollection(verts, \n",
    "                                 alpha = 0.8, #sets the transparency of the lines\n",
    "                                 lw = 0.9,\n",
    "                                 color=[c for c in vert_colors.color])\n",
    "ax.add_collection(rect_collection)\n",
    "\n",
    "#ax.set_ylim([-e.y.max()*0.05,e.y.max()*1.05])\n",
    "ax.set_xlim([-e.xright.max()*0.00, e.xright.max()*1.05])\n",
    "\n",
    "ax.set_frame_on(False)\n",
    "ax.set_xticklabels([]); ax.set_xticks([])\n",
    "ax.set_yticklabels([]), ax.set_yticks([])"
   ]
  },
  {
   "cell_type": "code",
   "execution_count": 67,
   "metadata": {
    "collapsed": false
   },
   "outputs": [
    {
     "data": {
      "text/plain": [
       "array([  0.5,   1.5,   2.5,   3.5,   4.5,   5.5,   6.5,   7.5,   8.5,\n",
       "         9.5,  10.5,  11.5,  12.5,  13.5,  14.5,  15.5,  16.5,  17.5,\n",
       "        18.5,  19.5,  20.5,  21.5,  22.5,  23.5,  24.5,  25.5,  26.5,\n",
       "        27.5,  28.5,  29.5,  30.5,  31.5,  32.5,  33.5,  34.5,  35.5,\n",
       "        36.5,  37.5,  38.5,  39.5,  40.5,  41.5,  42.5,  43.5,  44.5,\n",
       "        45.5,  46.5,  47.5,  48.5,  49.5,  50.5,  51.5,  52.5,  53.5,\n",
       "        54.5,  55.5])"
      ]
     },
     "execution_count": 67,
     "metadata": {},
     "output_type": "execute_result"
    }
   ],
   "source": [
    "np.arange(0.5,56.5) #+ np.zeros(matrix_df.shape) #.as_matrix()"
   ]
  }
 ],
 "metadata": {
  "anaconda-cloud": {},
  "kernelspec": {
   "display_name": "Python 2",
   "language": "python",
   "name": "python2"
  },
  "language_info": {
   "codemirror_mode": {
    "name": "ipython",
    "version": 2
   },
   "file_extension": ".py",
   "mimetype": "text/x-python",
   "name": "python",
   "nbconvert_exporter": "python",
   "pygments_lexer": "ipython2",
   "version": "2.7.13"
  }
 },
 "nbformat": 4,
 "nbformat_minor": 1
}
