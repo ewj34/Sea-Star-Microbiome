{
 "cells": [
  {
   "cell_type": "code",
   "execution_count": 1,
   "metadata": {
    "collapsed": false
   },
   "outputs": [],
   "source": [
    "import pandas as pd\n",
    "import screed\n",
    "from collections import Counter\n",
    "import gzip\n",
    "import pickle\n",
    "\n",
    "from bokeh.io import output_notebook, show\n",
    "from bokeh.plotting import figure\n",
    "from bokeh.models.glyphs import Circle\n",
    "from bokeh.models import ColumnDataSource\n",
    "from bokeh.models import HoverTool, BoxZoomTool, ResetTool, CustomJS, CrosshairTool\n",
    "\n",
    "#%matplotlib inline"
   ]
  },
  {
   "cell_type": "code",
   "execution_count": 2,
   "metadata": {
    "collapsed": false
   },
   "outputs": [
    {
     "data": {
      "text/html": [
       "\n",
       "    <div class=\"bk-root\">\n",
       "        <a href=\"http://bokeh.pydata.org\" target=\"_blank\" class=\"bk-logo bk-logo-small bk-logo-notebook\"></a>\n",
       "        <span id=\"ba1141f3-9073-44e9-878d-368d0a39f13b\">Loading BokehJS ...</span>\n",
       "    </div>"
      ]
     },
     "metadata": {},
     "output_type": "display_data"
    },
    {
     "data": {
      "application/javascript": [
       "\n",
       "(function(global) {\n",
       "  function now() {\n",
       "    return new Date();\n",
       "  }\n",
       "\n",
       "  var force = \"1\";\n",
       "\n",
       "  if (typeof (window._bokeh_onload_callbacks) === \"undefined\" || force !== \"\") {\n",
       "    window._bokeh_onload_callbacks = [];\n",
       "    window._bokeh_is_loading = undefined;\n",
       "  }\n",
       "\n",
       "\n",
       "  \n",
       "  if (typeof (window._bokeh_timeout) === \"undefined\" || force !== \"\") {\n",
       "    window._bokeh_timeout = Date.now() + 5000;\n",
       "    window._bokeh_failed_load = false;\n",
       "  }\n",
       "\n",
       "  var NB_LOAD_WARNING = {'data': {'text/html':\n",
       "     \"<div style='background-color: #fdd'>\\n\"+\n",
       "     \"<p>\\n\"+\n",
       "     \"BokehJS does not appear to have successfully loaded. If loading BokehJS from CDN, this \\n\"+\n",
       "     \"may be due to a slow or bad network connection. Possible fixes:\\n\"+\n",
       "     \"</p>\\n\"+\n",
       "     \"<ul>\\n\"+\n",
       "     \"<li>re-rerun `output_notebook()` to attempt to load from CDN again, or</li>\\n\"+\n",
       "     \"<li>use INLINE resources instead, as so:</li>\\n\"+\n",
       "     \"</ul>\\n\"+\n",
       "     \"<code>\\n\"+\n",
       "     \"from bokeh.resources import INLINE\\n\"+\n",
       "     \"output_notebook(resources=INLINE)\\n\"+\n",
       "     \"</code>\\n\"+\n",
       "     \"</div>\"}};\n",
       "\n",
       "  function display_loaded() {\n",
       "    if (window.Bokeh !== undefined) {\n",
       "      Bokeh.$(\"#ba1141f3-9073-44e9-878d-368d0a39f13b\").text(\"BokehJS successfully loaded.\");\n",
       "    } else if (Date.now() < window._bokeh_timeout) {\n",
       "      setTimeout(display_loaded, 100)\n",
       "    }\n",
       "  }\n",
       "\n",
       "  function run_callbacks() {\n",
       "    window._bokeh_onload_callbacks.forEach(function(callback) { callback() });\n",
       "    delete window._bokeh_onload_callbacks\n",
       "    console.info(\"Bokeh: all callbacks have finished\");\n",
       "  }\n",
       "\n",
       "  function load_libs(js_urls, callback) {\n",
       "    window._bokeh_onload_callbacks.push(callback);\n",
       "    if (window._bokeh_is_loading > 0) {\n",
       "      console.log(\"Bokeh: BokehJS is being loaded, scheduling callback at\", now());\n",
       "      return null;\n",
       "    }\n",
       "    if (js_urls == null || js_urls.length === 0) {\n",
       "      run_callbacks();\n",
       "      return null;\n",
       "    }\n",
       "    console.log(\"Bokeh: BokehJS not loaded, scheduling load and callback at\", now());\n",
       "    window._bokeh_is_loading = js_urls.length;\n",
       "    for (var i = 0; i < js_urls.length; i++) {\n",
       "      var url = js_urls[i];\n",
       "      var s = document.createElement('script');\n",
       "      s.src = url;\n",
       "      s.async = false;\n",
       "      s.onreadystatechange = s.onload = function() {\n",
       "        window._bokeh_is_loading--;\n",
       "        if (window._bokeh_is_loading === 0) {\n",
       "          console.log(\"Bokeh: all BokehJS libraries loaded\");\n",
       "          run_callbacks()\n",
       "        }\n",
       "      };\n",
       "      s.onerror = function() {\n",
       "        console.warn(\"failed to load library \" + url);\n",
       "      };\n",
       "      console.log(\"Bokeh: injecting script tag for BokehJS library: \", url);\n",
       "      document.getElementsByTagName(\"head\")[0].appendChild(s);\n",
       "    }\n",
       "  };var element = document.getElementById(\"ba1141f3-9073-44e9-878d-368d0a39f13b\");\n",
       "  if (element == null) {\n",
       "    console.log(\"Bokeh: ERROR: autoload.js configured with elementid 'ba1141f3-9073-44e9-878d-368d0a39f13b' but no matching script tag was found. \")\n",
       "    return false;\n",
       "  }\n",
       "\n",
       "  var js_urls = ['https://cdn.pydata.org/bokeh/release/bokeh-0.12.3.min.js', 'https://cdn.pydata.org/bokeh/release/bokeh-widgets-0.12.3.min.js'];\n",
       "\n",
       "  var inline_js = [\n",
       "    function(Bokeh) {\n",
       "      Bokeh.set_log_level(\"info\");\n",
       "    },\n",
       "    \n",
       "    function(Bokeh) {\n",
       "      \n",
       "      Bokeh.$(\"#ba1141f3-9073-44e9-878d-368d0a39f13b\").text(\"BokehJS is loading...\");\n",
       "    },\n",
       "    function(Bokeh) {\n",
       "      console.log(\"Bokeh: injecting CSS: https://cdn.pydata.org/bokeh/release/bokeh-0.12.3.min.css\");\n",
       "      Bokeh.embed.inject_css(\"https://cdn.pydata.org/bokeh/release/bokeh-0.12.3.min.css\");\n",
       "      console.log(\"Bokeh: injecting CSS: https://cdn.pydata.org/bokeh/release/bokeh-widgets-0.12.3.min.css\");\n",
       "      Bokeh.embed.inject_css(\"https://cdn.pydata.org/bokeh/release/bokeh-widgets-0.12.3.min.css\");\n",
       "    }\n",
       "  ];\n",
       "\n",
       "  function run_inline_js() {\n",
       "    \n",
       "    if ((window.Bokeh !== undefined) || (force === \"1\")) {\n",
       "      for (var i = 0; i < inline_js.length; i++) {\n",
       "        inline_js[i](window.Bokeh);\n",
       "      }if (force === \"1\") {\n",
       "        display_loaded();\n",
       "      }} else if (Date.now() < window._bokeh_timeout) {\n",
       "      setTimeout(run_inline_js, 100);\n",
       "    } else if (!window._bokeh_failed_load) {\n",
       "      console.log(\"Bokeh: BokehJS failed to load within specified timeout.\");\n",
       "      window._bokeh_failed_load = true;\n",
       "    } else if (!force) {\n",
       "      var cell = $(\"#ba1141f3-9073-44e9-878d-368d0a39f13b\").parents('.cell').data().cell;\n",
       "      cell.output_area.append_execute_result(NB_LOAD_WARNING)\n",
       "    }\n",
       "\n",
       "  }\n",
       "\n",
       "  if (window._bokeh_is_loading === 0) {\n",
       "    console.log(\"Bokeh: BokehJS loaded, going straight to plotting\");\n",
       "    run_inline_js();\n",
       "  } else {\n",
       "    load_libs(js_urls, function() {\n",
       "      console.log(\"Bokeh: BokehJS plotting callback run at\", now());\n",
       "      run_inline_js();\n",
       "    });\n",
       "  }\n",
       "}(this));"
      ]
     },
     "metadata": {},
     "output_type": "display_data"
    }
   ],
   "source": [
    "output_notebook()"
   ]
  },
  {
   "cell_type": "code",
   "execution_count": 2,
   "metadata": {
    "collapsed": false
   },
   "outputs": [],
   "source": [
    "ir_df = pd.read_csv(\"data/mapping_file.txt\", delimiter=\",\")"
   ]
  },
  {
   "cell_type": "code",
   "execution_count": 3,
   "metadata": {
    "collapsed": false
   },
   "outputs": [
    {
     "data": {
      "text/html": [
       "<div>\n",
       "<table border=\"1\" class=\"dataframe\">\n",
       "  <thead>\n",
       "    <tr style=\"text-align: right;\">\n",
       "      <th></th>\n",
       "      <th>Sample</th>\n",
       "      <th>i1_r</th>\n",
       "      <th>i2_f</th>\n",
       "    </tr>\n",
       "  </thead>\n",
       "  <tbody>\n",
       "    <tr>\n",
       "      <th>0</th>\n",
       "      <td>8106_PC</td>\n",
       "      <td>cgagagtt</td>\n",
       "      <td>atcgtacg</td>\n",
       "    </tr>\n",
       "    <tr>\n",
       "      <th>1</th>\n",
       "      <td>8533_TF</td>\n",
       "      <td>cgagagtt</td>\n",
       "      <td>actatctg</td>\n",
       "    </tr>\n",
       "    <tr>\n",
       "      <th>2</th>\n",
       "      <td>8534_G</td>\n",
       "      <td>cgagagtt</td>\n",
       "      <td>tagcgagt</td>\n",
       "    </tr>\n",
       "    <tr>\n",
       "      <th>3</th>\n",
       "      <td>8535_PC</td>\n",
       "      <td>cgagagtt</td>\n",
       "      <td>ctgcgtgt</td>\n",
       "    </tr>\n",
       "    <tr>\n",
       "      <th>4</th>\n",
       "      <td>8508_TF</td>\n",
       "      <td>cgagagtt</td>\n",
       "      <td>tcatcgag</td>\n",
       "    </tr>\n",
       "  </tbody>\n",
       "</table>\n",
       "</div>"
      ],
      "text/plain": [
       "    Sample      i1_r      i2_f\n",
       "0  8106_PC  cgagagtt  atcgtacg\n",
       "1  8533_TF  cgagagtt  actatctg\n",
       "2   8534_G  cgagagtt  tagcgagt\n",
       "3  8535_PC  cgagagtt  ctgcgtgt\n",
       "4  8508_TF  cgagagtt  tcatcgag"
      ]
     },
     "execution_count": 3,
     "metadata": {},
     "output_type": "execute_result"
    }
   ],
   "source": [
    "ir_df.head()"
   ]
  },
  {
   "cell_type": "code",
   "execution_count": 4,
   "metadata": {
    "collapsed": false,
    "scrolled": true
   },
   "outputs": [
    {
     "name": "stdout",
     "output_type": "stream",
     "text": [
      "@M02465:260:000000000-AN086:1:1101:15603:1331 1:N:0:0\r\n",
      "ACTCACTG\r\n",
      "\r\n",
      "gzip: stdout: Broken pipe\r\n"
     ]
    }
   ],
   "source": [
    "!zcat /var/seq_data/echinoderm/index1.fq.gz | head -n2"
   ]
  },
  {
   "cell_type": "code",
   "execution_count": 5,
   "metadata": {
    "collapsed": false
   },
   "outputs": [
    {
     "name": "stdout",
     "output_type": "stream",
     "text": [
      "@M02465:260:000000000-AN086:1:1101:15603:1331 1:N:0:0\r\n",
      "TACGGAGGGTCCGAGCGTTATCCGGATTCATTGGGTTTAAAGGGTGCGTAGGCGGCTTCATAAGCCAGTGGTGAAAGCTTGCAGCTTAACTGTAAAATTGCCATTGGAACTGTAGAGCTTGAGTATGATTGAAGTAGGCGGAATAAATAGTGTAGCGGTGAAATGCTTAGATATTATTTAGAACACCAATTGCGAAGGCAGCTTACTAAGTCATAACTGACGATGATGCACGAAAGCGTGGGTAGCGAACA\r\n",
      "\r\n",
      "gzip: stdout: Broken pipe\r\n"
     ]
    }
   ],
   "source": [
    "!zcat /var/seq_data/echinoderm/read1.fq.gz | head -n2"
   ]
  },
  {
   "cell_type": "code",
   "execution_count": 6,
   "metadata": {
    "collapsed": false,
    "scrolled": true
   },
   "outputs": [],
   "source": [
    "read1_fhs = dict([(s, gzip.open(\"data/demult/%s.R1.fq.gz\"%s, \"w\")) for s in ir_df[\"Sample\"]])\n",
    "read2_fhs = dict([(s, gzip.open(\"data/demult/%s.R2.fq.gz\"%s, \"w\")) for s in ir_df[\"Sample\"]])\n",
    "\n",
    "idx_d = dict([(row[\"i1_r\"].upper() + row[\"i2_f\"].upper(), row[\"Sample\"]) for i, row in ir_df.iterrows()])\n",
    "\n",
    "path = \"/var/seq_data/echinoderm/\"\n",
    "idx_r1 = screed.open(path + \"index1.fq.gz\")\n",
    "idx_r2 = screed.open(path + \"index2.fq.gz\")\n",
    "read1 = screed.open(path + \"read1.fq.gz\")\n",
    "read2 = screed.open(path + \"read2.fq.gz\")\n",
    "\n",
    "seq_cnt = Counter()\n",
    "bc_cnt = Counter()\n",
    "bad_bc_count = 0"
   ]
  },
  {
   "cell_type": "code",
   "execution_count": null,
   "metadata": {
    "collapsed": false
   },
   "outputs": [],
   "source": [
    "for i, recs in enumerate(zip(idx_r1, idx_r2, read1, read2)):\n",
    "    ir1 = recs[0]\n",
    "    ir2 = recs[1]\n",
    "    r1 = recs[2]\n",
    "    r2 = recs[3]\n",
    "        \n",
    "    idx_key = ir1.sequence + ir2.sequence\n",
    "    bc_cnt[idx_key] += 1\n",
    "    \n",
    "    try:\n",
    "        sample_name = idx_d[idx_key]\n",
    "    except KeyError:\n",
    "        bad_bc_count += 1\n",
    "        continue\n",
    "    \n",
    "    seq_cnt[sample_name] += 1\n",
    "    \n",
    "    fastq1 = \"@%s\\n%s\\n+\\n%s\\n\"%(r1.name, r1.sequence, r1.quality)\n",
    "    read1_fhs[sample_name].write(fastq1.encode())\n",
    "\n",
    "    fastq2 = \"@%s\\n%s\\n+\\n%s\\n\"%(r2.name, r2.sequence, r2.quality)\n",
    "    read2_fhs[sample_name].write(fastq2.encode())"
   ]
  },
  {
   "cell_type": "code",
   "execution_count": 18,
   "metadata": {
    "collapsed": true
   },
   "outputs": [],
   "source": [
    "for i, j in zip(read1_fhs.values(), read2_fhs.values()):\n",
    "    i.close(), j.close()"
   ]
  },
  {
   "cell_type": "code",
   "execution_count": 19,
   "metadata": {
    "collapsed": false
   },
   "outputs": [
    {
     "name": "stdout",
     "output_type": "stream",
     "text": [
      "We found 2169313 barcodes that did not match the mapping file.\n"
     ]
    }
   ],
   "source": [
    "print(\"We found %s barcodes that did not match the mapping file.\"%str(bad_bc_count))"
   ]
  },
  {
   "cell_type": "code",
   "execution_count": 21,
   "metadata": {
    "collapsed": false
   },
   "outputs": [],
   "source": [
    "pickle.dump(seq_cnt, open(\"data/seq_cnt.pickle\", \"wb\"))\n",
    "pickle.dump(bc_cnt, open(\"data/bc_cnt.pickle\", \"wb\"))"
   ]
  },
  {
   "cell_type": "code",
   "execution_count": 3,
   "metadata": {
    "collapsed": false
   },
   "outputs": [],
   "source": [
    "seq_cnt = pickle.load(open(\"data/seq_cnt.pickle\", \"rb\"))"
   ]
  },
  {
   "cell_type": "markdown",
   "metadata": {},
   "source": [
    "## Code below does not run"
   ]
  },
  {
   "cell_type": "code",
   "execution_count": 4,
   "metadata": {
    "collapsed": false
   },
   "outputs": [
    {
     "data": {
      "text/html": [
       "<div>\n",
       "<table border=\"1\" class=\"dataframe\">\n",
       "  <thead>\n",
       "    <tr style=\"text-align: right;\">\n",
       "      <th></th>\n",
       "      <th>SampleID</th>\n",
       "      <th>count</th>\n",
       "      <th>color</th>\n",
       "      <th>x</th>\n",
       "    </tr>\n",
       "  </thead>\n",
       "  <tbody>\n",
       "    <tr>\n",
       "      <th>0</th>\n",
       "      <td>C227_W</td>\n",
       "      <td>226081</td>\n",
       "      <td>#F8766D</td>\n",
       "      <td>1</td>\n",
       "    </tr>\n",
       "    <tr>\n",
       "      <th>1</th>\n",
       "      <td>USP13A_CF</td>\n",
       "      <td>220694</td>\n",
       "      <td>#F8766D</td>\n",
       "      <td>2</td>\n",
       "    </tr>\n",
       "    <tr>\n",
       "      <th>2</th>\n",
       "      <td>C560_PC</td>\n",
       "      <td>211524</td>\n",
       "      <td>#F8766D</td>\n",
       "      <td>3</td>\n",
       "    </tr>\n",
       "    <tr>\n",
       "      <th>3</th>\n",
       "      <td>C280_S</td>\n",
       "      <td>127067</td>\n",
       "      <td>#F8766D</td>\n",
       "      <td>4</td>\n",
       "    </tr>\n",
       "    <tr>\n",
       "      <th>4</th>\n",
       "      <td>C340_CF</td>\n",
       "      <td>110776</td>\n",
       "      <td>#F8766D</td>\n",
       "      <td>5</td>\n",
       "    </tr>\n",
       "  </tbody>\n",
       "</table>\n",
       "</div>"
      ],
      "text/plain": [
       "    SampleID   count    color  x\n",
       "0     C227_W  226081  #F8766D  1\n",
       "1  USP13A_CF  220694  #F8766D  2\n",
       "2    C560_PC  211524  #F8766D  3\n",
       "3     C280_S  127067  #F8766D  4\n",
       "4    C340_CF  110776  #F8766D  5"
      ]
     },
     "execution_count": 4,
     "metadata": {},
     "output_type": "execute_result"
    }
   ],
   "source": [
    "df = pd.DataFrame.from_dict(dict(seq_cnt.most_common()), orient=\"index\")\n",
    "df.rename(columns={0 : \"count\"}, inplace=True)\n",
    "df.sort_values(\"count\", inplace=True, ascending=False)\n",
    "df[\"color\"] = \"#F8766D\"\n",
    "df.reset_index(inplace=True)\n",
    "df.rename(columns={\"index\" : \"SampleID\"}, inplace=True)\n",
    "df[\"x\"] = [i + 1 for i, s in enumerate(df[\"SampleID\"])]\n",
    "df.head()"
   ]
  },
  {
   "cell_type": "code",
   "execution_count": 8,
   "metadata": {
    "collapsed": false
   },
   "outputs": [
    {
     "data": {
      "text/html": [
       "\n",
       "\n",
       "    <div class=\"bk-root\">\n",
       "        <div class=\"plotdiv\" id=\"b0a4009e-bb6a-462f-bd49-073b026ae271\"></div>\n",
       "    </div>\n",
       "<script type=\"text/javascript\">\n",
       "  \n",
       "  (function(global) {\n",
       "    function now() {\n",
       "      return new Date();\n",
       "    }\n",
       "  \n",
       "    var force = \"\";\n",
       "  \n",
       "    if (typeof (window._bokeh_onload_callbacks) === \"undefined\" || force !== \"\") {\n",
       "      window._bokeh_onload_callbacks = [];\n",
       "      window._bokeh_is_loading = undefined;\n",
       "    }\n",
       "  \n",
       "  \n",
       "    \n",
       "    if (typeof (window._bokeh_timeout) === \"undefined\" || force !== \"\") {\n",
       "      window._bokeh_timeout = Date.now() + 0;\n",
       "      window._bokeh_failed_load = false;\n",
       "    }\n",
       "  \n",
       "    var NB_LOAD_WARNING = {'data': {'text/html':\n",
       "       \"<div style='background-color: #fdd'>\\n\"+\n",
       "       \"<p>\\n\"+\n",
       "       \"BokehJS does not appear to have successfully loaded. If loading BokehJS from CDN, this \\n\"+\n",
       "       \"may be due to a slow or bad network connection. Possible fixes:\\n\"+\n",
       "       \"</p>\\n\"+\n",
       "       \"<ul>\\n\"+\n",
       "       \"<li>re-rerun `output_notebook()` to attempt to load from CDN again, or</li>\\n\"+\n",
       "       \"<li>use INLINE resources instead, as so:</li>\\n\"+\n",
       "       \"</ul>\\n\"+\n",
       "       \"<code>\\n\"+\n",
       "       \"from bokeh.resources import INLINE\\n\"+\n",
       "       \"output_notebook(resources=INLINE)\\n\"+\n",
       "       \"</code>\\n\"+\n",
       "       \"</div>\"}};\n",
       "  \n",
       "    function display_loaded() {\n",
       "      if (window.Bokeh !== undefined) {\n",
       "        Bokeh.$(\"#b0a4009e-bb6a-462f-bd49-073b026ae271\").text(\"BokehJS successfully loaded.\");\n",
       "      } else if (Date.now() < window._bokeh_timeout) {\n",
       "        setTimeout(display_loaded, 100)\n",
       "      }\n",
       "    }\n",
       "  \n",
       "    function run_callbacks() {\n",
       "      window._bokeh_onload_callbacks.forEach(function(callback) { callback() });\n",
       "      delete window._bokeh_onload_callbacks\n",
       "      console.info(\"Bokeh: all callbacks have finished\");\n",
       "    }\n",
       "  \n",
       "    function load_libs(js_urls, callback) {\n",
       "      window._bokeh_onload_callbacks.push(callback);\n",
       "      if (window._bokeh_is_loading > 0) {\n",
       "        console.log(\"Bokeh: BokehJS is being loaded, scheduling callback at\", now());\n",
       "        return null;\n",
       "      }\n",
       "      if (js_urls == null || js_urls.length === 0) {\n",
       "        run_callbacks();\n",
       "        return null;\n",
       "      }\n",
       "      console.log(\"Bokeh: BokehJS not loaded, scheduling load and callback at\", now());\n",
       "      window._bokeh_is_loading = js_urls.length;\n",
       "      for (var i = 0; i < js_urls.length; i++) {\n",
       "        var url = js_urls[i];\n",
       "        var s = document.createElement('script');\n",
       "        s.src = url;\n",
       "        s.async = false;\n",
       "        s.onreadystatechange = s.onload = function() {\n",
       "          window._bokeh_is_loading--;\n",
       "          if (window._bokeh_is_loading === 0) {\n",
       "            console.log(\"Bokeh: all BokehJS libraries loaded\");\n",
       "            run_callbacks()\n",
       "          }\n",
       "        };\n",
       "        s.onerror = function() {\n",
       "          console.warn(\"failed to load library \" + url);\n",
       "        };\n",
       "        console.log(\"Bokeh: injecting script tag for BokehJS library: \", url);\n",
       "        document.getElementsByTagName(\"head\")[0].appendChild(s);\n",
       "      }\n",
       "    };var element = document.getElementById(\"b0a4009e-bb6a-462f-bd49-073b026ae271\");\n",
       "    if (element == null) {\n",
       "      console.log(\"Bokeh: ERROR: autoload.js configured with elementid 'b0a4009e-bb6a-462f-bd49-073b026ae271' but no matching script tag was found. \")\n",
       "      return false;\n",
       "    }\n",
       "  \n",
       "    var js_urls = [];\n",
       "  \n",
       "    var inline_js = [\n",
       "      function(Bokeh) {\n",
       "        Bokeh.$(function() {\n",
       "            var docs_json = {\"7ce7ddb9-c218-4d38-9a1c-7f10faec0053\":{\"roots\":{\"references\":[{\"attributes\":{\"grid_line_color\":{\"value\":null},\"plot\":{\"id\":\"f0521adc-1593-4661-ac65-283cf42e5d0f\",\"subtype\":\"Figure\",\"type\":\"Plot\"},\"ticker\":{\"id\":\"1a90466e-011e-4d96-a39b-f24875e5662b\",\"type\":\"BasicTicker\"}},\"id\":\"47975028-16eb-4fa1-96c4-6d341cda1d1e\",\"type\":\"Grid\"},{\"attributes\":{\"data_source\":{\"id\":\"404a0052-39fb-4198-8bc4-3f8064593626\",\"type\":\"ColumnDataSource\"},\"glyph\":{\"id\":\"9b2e37d9-df11-4370-9d0a-27e184e1d97c\",\"type\":\"Line\"},\"hover_glyph\":null,\"nonselection_glyph\":{\"id\":\"03f1be11-c28c-4133-bab5-5a9f5422db99\",\"type\":\"Line\"},\"selection_glyph\":null},\"id\":\"98bb44d1-169c-4eba-8f60-7ae19bb423ab\",\"type\":\"GlyphRenderer\"},{\"attributes\":{\"callback\":null},\"id\":\"b486bf00-cb7e-4b6d-84d9-0f352fab19b1\",\"type\":\"DataRange1d\"},{\"attributes\":{\"below\":[{\"id\":\"8e49dffd-dca7-4dbe-9e24-a14a29a4b0e5\",\"type\":\"LinearAxis\"}],\"left\":[{\"id\":\"3fb9a50f-1fcf-4867-ae54-030879fce43a\",\"type\":\"LogAxis\"}],\"outline_line_color\":{\"value\":null},\"plot_height\":400,\"plot_width\":800,\"renderers\":[{\"id\":\"8e49dffd-dca7-4dbe-9e24-a14a29a4b0e5\",\"type\":\"LinearAxis\"},{\"id\":\"47975028-16eb-4fa1-96c4-6d341cda1d1e\",\"type\":\"Grid\"},{\"id\":\"3fb9a50f-1fcf-4867-ae54-030879fce43a\",\"type\":\"LogAxis\"},{\"id\":\"67cb8a00-a219-453e-befb-8c75a3f2881b\",\"type\":\"Grid\"},{\"id\":\"e7cc41cd-12e3-4fe3-8976-54b645f24873\",\"type\":\"GlyphRenderer\"},{\"id\":\"98bb44d1-169c-4eba-8f60-7ae19bb423ab\",\"type\":\"GlyphRenderer\"},{\"id\":\"86a7292e-f180-4bab-8625-4c9481228fed\",\"type\":\"BoxAnnotation\"}],\"title\":{\"id\":\"c67e0a99-f94b-4b16-ab06-ccf82a31af37\",\"type\":\"Title\"},\"tool_events\":{\"id\":\"f28c3b86-4b80-44c6-9945-4c0c6d85692f\",\"type\":\"ToolEvents\"},\"toolbar\":{\"id\":\"13575adc-fdfc-4707-ba2c-0bb0d02ba78b\",\"type\":\"Toolbar\"},\"toolbar_location\":\"above\",\"x_range\":{\"id\":\"b486bf00-cb7e-4b6d-84d9-0f352fab19b1\",\"type\":\"DataRange1d\"},\"y_mapper_type\":\"log\",\"y_range\":{\"id\":\"cbdd40f2-40a5-45ba-b9d2-5d9ac1ec57a6\",\"type\":\"DataRange1d\"}},\"id\":\"f0521adc-1593-4661-ac65-283cf42e5d0f\",\"subtype\":\"Figure\",\"type\":\"Plot\"},{\"attributes\":{\"args\":{\"source\":{\"id\":\"3b4272c4-ed2f-4e7d-9a3b-0dcbc1d2169a\",\"type\":\"ColumnDataSource\"}},\"code\":\"source.set('selected', cb_data['index']);\"},\"id\":\"867f2073-0331-40f7-bb19-905c9d3e7bb4\",\"type\":\"CustomJS\"},{\"attributes\":{\"active_drag\":\"auto\",\"active_scroll\":\"auto\",\"active_tap\":\"auto\",\"tools\":[{\"id\":\"5580da0d-18c6-4e9d-8a00-65d7a3405da9\",\"type\":\"HoverTool\"},{\"id\":\"740ca506-4a36-445d-ae42-31719c55e056\",\"type\":\"BoxZoomTool\"},{\"id\":\"29dab4e0-c6ae-4581-9c11-ae165a4e6bc2\",\"type\":\"ResetTool\"}]},\"id\":\"13575adc-fdfc-4707-ba2c-0bb0d02ba78b\",\"type\":\"Toolbar\"},{\"attributes\":{\"fill_alpha\":{\"value\":0.5},\"fill_color\":{\"field\":\"color\"},\"line_alpha\":{\"value\":0.5},\"line_color\":{\"field\":\"color\"},\"size\":{\"units\":\"screen\",\"value\":8},\"x\":{\"field\":\"x\"},\"y\":{\"field\":\"count\"}},\"id\":\"9c99c2df-528b-4af0-8e3d-884c7803568e\",\"type\":\"Circle\"},{\"attributes\":{\"line_color\":{\"value\":\"#F8766D\"},\"line_width\":{\"value\":3},\"x\":{\"field\":\"x\"},\"y\":{\"field\":\"y\"}},\"id\":\"9b2e37d9-df11-4370-9d0a-27e184e1d97c\",\"type\":\"Line\"},{\"attributes\":{},\"id\":\"1a90466e-011e-4d96-a39b-f24875e5662b\",\"type\":\"BasicTicker\"},{\"attributes\":{\"data_source\":{\"id\":\"3b4272c4-ed2f-4e7d-9a3b-0dcbc1d2169a\",\"type\":\"ColumnDataSource\"},\"glyph\":{\"id\":\"9c99c2df-528b-4af0-8e3d-884c7803568e\",\"type\":\"Circle\"},\"hover_glyph\":null,\"nonselection_glyph\":{\"id\":\"9c99c2df-528b-4af0-8e3d-884c7803568e\",\"type\":\"Circle\"},\"selection_glyph\":{\"id\":\"e69073d8-76cc-41ae-93f9-375984649ef4\",\"type\":\"Circle\"}},\"id\":\"e7cc41cd-12e3-4fe3-8976-54b645f24873\",\"type\":\"GlyphRenderer\"},{\"attributes\":{\"callback\":null,\"column_names\":[\"x\",\"y\"],\"data\":{\"x\":[1,2,3,4,5,6,7,8,9,10,11,12,13,14,15,16,17,18,19,20,21,22,23,24,25,26,27,28,29,30,31,32,33,34,35,36,37,38,39,40,41,42,43,44,45,46,47,48,49,50,51,52,53,54,55,56,57,58,59,60,61,62,63,64,65,66,67,68,69,70,71,72,73,74,75,76,77,78,79,80,81,82,83,84,85,86,87,88,89,90,91,92,93,94,95,96,97,98,99,100,101,102,103,104,105,106,107,108,109,110,111,112,113,114,115,116,117,118,119,120,121,122,123,124,125,126,127,128,129,130,131,132,133,134,135,136,137,138,139,140,141,142,143,144,145,146,147,148,149,150,151,152,153,154,155,156,157,158,159,160,161,162,163,164,165,166,167,168,169,170,171,172,173,174,175,176,177,178,179,180,181,182,183,184],\"y\":[226081,220694,211524,127067,110776,108153,105777,96555,95096,90164,90091,83061,82582,81859,80355,75671,75162,73947,72411,69814,68515,67322,63538,63397,62168,61064,59802,59551,58660,58319,57006,55297,54312,53276,52814,52751,52489,51547,51412,51378,50641,49658,49542,47875,47377,47302,47250,47007,46188,46131,46115,45495,45231,45219,45162,42944,41946,41663,41373,40086,39694,39440,39356,39266,39134,39068,37767,37308,36314,35758,35666,35513,35460,35405,34848,34654,34572,34472,34094,33817,33798,33788,33537,33242,32998,32861,32799,32778,32294,32016,31510,31088,30759,30624,30447,29869,29354,29236,29177,29135,29027,28987,28365,28166,26893,26875,26620,26321,26307,26181,26090,25998,24258,23629,22799,22449,22358,21907,21531,21260,21235,20943,20879,20562,20535,20077,19902,19000,18263,17971,16342,15978,15900,15038,14103,13704,13118,12952,12350,11680,10393,9794,9625,9617,9603,9078,7531,7452,7159,5968,5568,5470,4964,4664,4510,4355,4171,2103,1858,1701,1675,1222,641,443,434,406,304,171,158,142,142,136,127,111,107,94,94,93,80,79,74,69,49,42]}},\"id\":\"404a0052-39fb-4198-8bc4-3f8064593626\",\"type\":\"ColumnDataSource\"},{\"attributes\":{},\"id\":\"05d151dc-e732-4057-8351-a716e42fa46e\",\"type\":\"BasicTickFormatter\"},{\"attributes\":{\"callback\":null,\"column_names\":[\"SampleID\",\"count\",\"index\",\"x\",\"color\"],\"data\":{\"SampleID\":[\"C227_W\",\"USP13A_CF\",\"C560_PC\",\"C280_S\",\"C340_CF\",\"C181_TF\",\"8508_CF\",\"USF6B_CF\",\"C542_S\",\"USP27A_CF\",\"8526_TF\",\"8161_W\",\"T1EVA5_BP\",\"C395_TF\",\"8539_PC\",\"8536_CF\",\"USF4A_CF\",\"USP22B_CF\",\"USP23B_CF\",\"USF3A_CF\",\"8528_CF\",\"8553_PC\",\"USP12A_CF\",\"T1EVA8_BP\",\"USP20B_CF\",\"C558_TF\",\"CUC2_BP\",\"C514_W\",\"8176_BP\",\"C233_CF\",\"T1EVA3_PC\",\"USP25A_CF\",\"USP26A_CF\",\"C562_TF\",\"CF1_CF\",\"USF2A_CF\",\"C556_PC\",\"8527_G\",\"USF9B_CF\",\"USP18B_CF\",\"8538_G\",\"C512_PC\",\"USF5A_CF\",\"C561_G\",\"8567_PC\",\"8515_TF\",\"8525_CF\",\"8557_TF\",\"8569_S\",\"C447_G\",\"C394_PC\",\"C325_PC\",\"C559_CF\",\"C445_W\",\"8540_CF\",\"8506_MF\",\"T1EVA9_PC\",\"C606_PC\",\"8137_BP\",\"CF2_CF\",\"C448_TF\",\"8502_TF\",\"8534_G\",\"8552_CF\",\"C10_CF\",\"C291_W\",\"C430_BP\",\"8523_G\",\"C11_PC\",\"C563_PC\",\"8512_RT\",\"T1EVA4_CF\",\"8163_W\",\"CUC1_BP\",\"8514_TF\",\"C234_G\",\"T1EVA6_PC\",\"C341_G\",\"USP16A_CF\",\"C607_TF\",\"8297_W\",\"C20_CF\",\"8504_PC\",\"C7_CF\",\"8110_BP\",\"8532_CF\",\"USF11B_CF\",\"C293_G\",\"T1EVA2_BP\",\"USF7B_CF\",\"C458_BP\",\"C210_CF\",\"8505_RPT\",\"8509_G\",\"USP14A_CF\",\"C554_W\",\"USP17A_CF\",\"CUC3_BP\",\"C557_G\",\"8143_BP\",\"8530_G\",\"C326_TF\",\"C446_PC\",\"8513_PC\",\"C531_TF\",\"C23_TF\",\"8524_TF\",\"8543_PC\",\"T1EVA7_CF\",\"8116_BP\",\"8568_S\",\"8508_TF\",\"8503_G\",\"C530_PC\",\"8106_PC\",\"T1EVA1_CF\",\"C324_G\",\"C322_W\",\"C1_S\",\"C12_G\",\"C534_BP\",\"USP15A_CF\",\"USF10B_CF\",\"C565\",\"C516_TF\",\"C177_TF\",\"USP19B_CF\",\"C515_G\",\"C508_S\",\"8510_PC\",\"C605_CF\",\"C459_PC\",\"C454_S\",\"C564_G\",\"8558_G\",\"8209_BP\",\"8511_G\",\"C178_TF\",\"C292_CF\",\"8541_TF\",\"8531_PC\",\"8535_PC\",\"8537_TF\",\"C393_G\",\"8550_PC\",\"C431_PC\",\"C535_PC\",\"USF8B_CF\",\"C385_W\",\"8533_TF\",\"8298_W\",\"C209.3_TF\",\"C529_G\",\"C511_CF\",\"C528_CF\",\"USP21B_CF\",\"8554_TF\",\"8551_G\",\"8522_CF\",\"8559_PC\",\"CUC5_BP\",\"8529_TF\",\"C27_TF\",\"C608_G\",\"C425_S\",\"C209.4_TF\",\"C205.5_TF\",\"C38_W\",\"8546_CF\",\"CUC6_BP\",\"CUC4_BP\",\"8556_CF\",\"C26_TF\",\"USP24B_CF\",\"C22_PC\",\"C211_PC\",\"C213_TF\",\"8566_CF\",\"8549_CF\",\"C25_G\",\"C24_PC\",\"C21_G\",\"8565_CF\",\"8547_CF\"],\"color\":[\"#F8766D\",\"#F8766D\",\"#F8766D\",\"#F8766D\",\"#F8766D\",\"#F8766D\",\"#F8766D\",\"#F8766D\",\"#F8766D\",\"#F8766D\",\"#F8766D\",\"#F8766D\",\"#F8766D\",\"#F8766D\",\"#F8766D\",\"#F8766D\",\"#F8766D\",\"#F8766D\",\"#F8766D\",\"#F8766D\",\"#F8766D\",\"#F8766D\",\"#F8766D\",\"#F8766D\",\"#F8766D\",\"#F8766D\",\"#F8766D\",\"#F8766D\",\"#F8766D\",\"#F8766D\",\"#F8766D\",\"#F8766D\",\"#F8766D\",\"#F8766D\",\"#F8766D\",\"#F8766D\",\"#F8766D\",\"#F8766D\",\"#F8766D\",\"#F8766D\",\"#F8766D\",\"#F8766D\",\"#F8766D\",\"#F8766D\",\"#F8766D\",\"#F8766D\",\"#F8766D\",\"#F8766D\",\"#F8766D\",\"#F8766D\",\"#F8766D\",\"#F8766D\",\"#F8766D\",\"#F8766D\",\"#F8766D\",\"#F8766D\",\"#F8766D\",\"#F8766D\",\"#F8766D\",\"#F8766D\",\"#F8766D\",\"#F8766D\",\"#F8766D\",\"#F8766D\",\"#F8766D\",\"#F8766D\",\"#F8766D\",\"#F8766D\",\"#F8766D\",\"#F8766D\",\"#F8766D\",\"#F8766D\",\"#F8766D\",\"#F8766D\",\"#F8766D\",\"#F8766D\",\"#F8766D\",\"#F8766D\",\"#F8766D\",\"#F8766D\",\"#F8766D\",\"#F8766D\",\"#F8766D\",\"#F8766D\",\"#F8766D\",\"#F8766D\",\"#F8766D\",\"#F8766D\",\"#F8766D\",\"#F8766D\",\"#F8766D\",\"#F8766D\",\"#F8766D\",\"#F8766D\",\"#F8766D\",\"#F8766D\",\"#F8766D\",\"#F8766D\",\"#F8766D\",\"#F8766D\",\"#F8766D\",\"#F8766D\",\"#F8766D\",\"#F8766D\",\"#F8766D\",\"#F8766D\",\"#F8766D\",\"#F8766D\",\"#F8766D\",\"#F8766D\",\"#F8766D\",\"#F8766D\",\"#F8766D\",\"#F8766D\",\"#F8766D\",\"#F8766D\",\"#F8766D\",\"#F8766D\",\"#F8766D\",\"#F8766D\",\"#F8766D\",\"#F8766D\",\"#F8766D\",\"#F8766D\",\"#F8766D\",\"#F8766D\",\"#F8766D\",\"#F8766D\",\"#F8766D\",\"#F8766D\",\"#F8766D\",\"#F8766D\",\"#F8766D\",\"#F8766D\",\"#F8766D\",\"#F8766D\",\"#F8766D\",\"#F8766D\",\"#F8766D\",\"#F8766D\",\"#F8766D\",\"#F8766D\",\"#F8766D\",\"#F8766D\",\"#F8766D\",\"#F8766D\",\"#F8766D\",\"#F8766D\",\"#F8766D\",\"#F8766D\",\"#F8766D\",\"#F8766D\",\"#F8766D\",\"#F8766D\",\"#F8766D\",\"#F8766D\",\"#F8766D\",\"#F8766D\",\"#F8766D\",\"#F8766D\",\"#F8766D\",\"#F8766D\",\"#F8766D\",\"#F8766D\",\"#F8766D\",\"#F8766D\",\"#F8766D\",\"#F8766D\",\"#F8766D\",\"#F8766D\",\"#F8766D\",\"#F8766D\",\"#F8766D\",\"#F8766D\",\"#F8766D\",\"#F8766D\",\"#F8766D\",\"#F8766D\",\"#F8766D\",\"#F8766D\",\"#F8766D\",\"#F8766D\",\"#F8766D\",\"#F8766D\"],\"count\":[226081,220694,211524,127067,110776,108153,105777,96555,95096,90164,90091,83061,82582,81859,80355,75671,75162,73947,72411,69814,68515,67322,63538,63397,62168,61064,59802,59551,58660,58319,57006,55297,54312,53276,52814,52751,52489,51547,51412,51378,50641,49658,49542,47875,47377,47302,47250,47007,46188,46131,46115,45495,45231,45219,45162,42944,41946,41663,41373,40086,39694,39440,39356,39266,39134,39068,37767,37308,36314,35758,35666,35513,35460,35405,34848,34654,34572,34472,34094,33817,33798,33788,33537,33242,32998,32861,32799,32778,32294,32016,31510,31088,30759,30624,30447,29869,29354,29236,29177,29135,29027,28987,28365,28166,26893,26875,26620,26321,26307,26181,26090,25998,24258,23629,22799,22449,22358,21907,21531,21260,21235,20943,20879,20562,20535,20077,19902,19000,18263,17971,16342,15978,15900,15038,14103,13704,13118,12952,12350,11680,10393,9794,9625,9617,9603,9078,7531,7452,7159,5968,5568,5470,4964,4664,4510,4355,4171,2103,1858,1701,1675,1222,641,443,434,406,304,171,158,142,142,136,127,111,107,94,94,93,80,79,74,69,49,42],\"index\":[0,1,2,3,4,5,6,7,8,9,10,11,12,13,14,15,16,17,18,19,20,21,22,23,24,25,26,27,28,29,30,31,32,33,34,35,36,37,38,39,40,41,42,43,44,45,46,47,48,49,50,51,52,53,54,55,56,57,58,59,60,61,62,63,64,65,66,67,68,69,70,71,72,73,74,75,76,77,78,79,80,81,82,83,84,85,86,87,88,89,90,91,92,93,94,95,96,97,98,99,100,101,102,103,104,105,106,107,108,109,110,111,112,113,114,115,116,117,118,119,120,121,122,123,124,125,126,127,128,129,130,131,132,133,134,135,136,137,138,139,140,141,142,143,144,145,146,147,148,149,150,151,152,153,154,155,156,157,158,159,160,161,162,163,164,165,166,167,168,169,170,171,172,173,174,175,176,177,178,179,180,181,182,183],\"x\":[1,2,3,4,5,6,7,8,9,10,11,12,13,14,15,16,17,18,19,20,21,22,23,24,25,26,27,28,29,30,31,32,33,34,35,36,37,38,39,40,41,42,43,44,45,46,47,48,49,50,51,52,53,54,55,56,57,58,59,60,61,62,63,64,65,66,67,68,69,70,71,72,73,74,75,76,77,78,79,80,81,82,83,84,85,86,87,88,89,90,91,92,93,94,95,96,97,98,99,100,101,102,103,104,105,106,107,108,109,110,111,112,113,114,115,116,117,118,119,120,121,122,123,124,125,126,127,128,129,130,131,132,133,134,135,136,137,138,139,140,141,142,143,144,145,146,147,148,149,150,151,152,153,154,155,156,157,158,159,160,161,162,163,164,165,166,167,168,169,170,171,172,173,174,175,176,177,178,179,180,181,182,183,184]}},\"id\":\"3b4272c4-ed2f-4e7d-9a3b-0dcbc1d2169a\",\"type\":\"ColumnDataSource\"},{\"attributes\":{\"ticker\":null},\"id\":\"5e2a2d31-f531-4a46-9998-8621dd2e9470\",\"type\":\"LogTickFormatter\"},{\"attributes\":{\"overlay\":{\"id\":\"86a7292e-f180-4bab-8625-4c9481228fed\",\"type\":\"BoxAnnotation\"},\"plot\":{\"id\":\"f0521adc-1593-4661-ac65-283cf42e5d0f\",\"subtype\":\"Figure\",\"type\":\"Plot\"}},\"id\":\"740ca506-4a36-445d-ae42-31719c55e056\",\"type\":\"BoxZoomTool\"},{\"attributes\":{\"callback\":{\"id\":\"867f2073-0331-40f7-bb19-905c9d3e7bb4\",\"type\":\"CustomJS\"},\"plot\":{\"id\":\"f0521adc-1593-4661-ac65-283cf42e5d0f\",\"subtype\":\"Figure\",\"type\":\"Plot\"},\"renderers\":[{\"id\":\"e7cc41cd-12e3-4fe3-8976-54b645f24873\",\"type\":\"GlyphRenderer\"}],\"tooltips\":\"\\n    <div>\\n        <span style=\\\"font-size: 17px; font-weight: bold;\\\">@SampleID </span>\\n    </div>\\n    <div>\\n        <span style=\\\"font-size: 17px; font-weight: bold;\\\">@count </span>\\n    </div>\\n\"},\"id\":\"5580da0d-18c6-4e9d-8a00-65d7a3405da9\",\"type\":\"HoverTool\"},{\"attributes\":{\"line_alpha\":{\"value\":0.1},\"line_color\":{\"value\":\"#1f77b4\"},\"line_width\":{\"value\":3},\"x\":{\"field\":\"x\"},\"y\":{\"field\":\"y\"}},\"id\":\"03f1be11-c28c-4133-bab5-5a9f5422db99\",\"type\":\"Line\"},{\"attributes\":{\"plot\":null,\"text\":null},\"id\":\"c67e0a99-f94b-4b16-ab06-ccf82a31af37\",\"type\":\"Title\"},{\"attributes\":{\"num_minor_ticks\":10},\"id\":\"d471eb25-8232-4561-b44c-5d2642c5a45a\",\"type\":\"LogTicker\"},{\"attributes\":{\"axis_label\":\"Seq count\",\"axis_line_width\":{\"value\":3},\"formatter\":{\"id\":\"5e2a2d31-f531-4a46-9998-8621dd2e9470\",\"type\":\"LogTickFormatter\"},\"plot\":{\"id\":\"f0521adc-1593-4661-ac65-283cf42e5d0f\",\"subtype\":\"Figure\",\"type\":\"Plot\"},\"ticker\":{\"id\":\"d471eb25-8232-4561-b44c-5d2642c5a45a\",\"type\":\"LogTicker\"}},\"id\":\"3fb9a50f-1fcf-4867-ae54-030879fce43a\",\"type\":\"LogAxis\"},{\"attributes\":{\"plot\":{\"id\":\"f0521adc-1593-4661-ac65-283cf42e5d0f\",\"subtype\":\"Figure\",\"type\":\"Plot\"}},\"id\":\"29dab4e0-c6ae-4581-9c11-ae165a4e6bc2\",\"type\":\"ResetTool\"},{\"attributes\":{\"bottom_units\":\"screen\",\"fill_alpha\":{\"value\":0.5},\"fill_color\":{\"value\":\"lightgrey\"},\"left_units\":\"screen\",\"level\":\"overlay\",\"line_alpha\":{\"value\":1.0},\"line_color\":{\"value\":\"black\"},\"line_dash\":[4,4],\"line_width\":{\"value\":2},\"plot\":null,\"render_mode\":\"css\",\"right_units\":\"screen\",\"top_units\":\"screen\"},\"id\":\"86a7292e-f180-4bab-8625-4c9481228fed\",\"type\":\"BoxAnnotation\"},{\"attributes\":{\"fill_color\":{\"field\":\"color\"},\"line_color\":{\"field\":\"color\"},\"x\":{\"field\":\"x\"},\"y\":{\"field\":\"count\"}},\"id\":\"e69073d8-76cc-41ae-93f9-375984649ef4\",\"type\":\"Circle\"},{\"attributes\":{},\"id\":\"f28c3b86-4b80-44c6-9945-4c0c6d85692f\",\"type\":\"ToolEvents\"},{\"attributes\":{\"callback\":null},\"id\":\"cbdd40f2-40a5-45ba-b9d2-5d9ac1ec57a6\",\"type\":\"DataRange1d\"},{\"attributes\":{\"axis_label\":\"Sample\",\"axis_line_width\":{\"value\":3},\"formatter\":{\"id\":\"05d151dc-e732-4057-8351-a716e42fa46e\",\"type\":\"BasicTickFormatter\"},\"plot\":{\"id\":\"f0521adc-1593-4661-ac65-283cf42e5d0f\",\"subtype\":\"Figure\",\"type\":\"Plot\"},\"ticker\":{\"id\":\"1a90466e-011e-4d96-a39b-f24875e5662b\",\"type\":\"BasicTicker\"}},\"id\":\"8e49dffd-dca7-4dbe-9e24-a14a29a4b0e5\",\"type\":\"LinearAxis\"},{\"attributes\":{\"dimension\":1,\"grid_line_color\":{\"value\":null},\"plot\":{\"id\":\"f0521adc-1593-4661-ac65-283cf42e5d0f\",\"subtype\":\"Figure\",\"type\":\"Plot\"},\"ticker\":{\"id\":\"d471eb25-8232-4561-b44c-5d2642c5a45a\",\"type\":\"LogTicker\"}},\"id\":\"67cb8a00-a219-453e-befb-8c75a3f2881b\",\"type\":\"Grid\"}],\"root_ids\":[\"f0521adc-1593-4661-ac65-283cf42e5d0f\"]},\"title\":\"Bokeh Application\",\"version\":\"0.12.3\"}};\n",
       "            var render_items = [{\"docid\":\"7ce7ddb9-c218-4d38-9a1c-7f10faec0053\",\"elementid\":\"b0a4009e-bb6a-462f-bd49-073b026ae271\",\"modelid\":\"f0521adc-1593-4661-ac65-283cf42e5d0f\"}];\n",
       "            \n",
       "            Bokeh.embed.embed_items(docs_json, render_items);\n",
       "        });\n",
       "      },\n",
       "      function(Bokeh) {\n",
       "      }\n",
       "    ];\n",
       "  \n",
       "    function run_inline_js() {\n",
       "      \n",
       "      if ((window.Bokeh !== undefined) || (force === \"1\")) {\n",
       "        for (var i = 0; i < inline_js.length; i++) {\n",
       "          inline_js[i](window.Bokeh);\n",
       "        }if (force === \"1\") {\n",
       "          display_loaded();\n",
       "        }} else if (Date.now() < window._bokeh_timeout) {\n",
       "        setTimeout(run_inline_js, 100);\n",
       "      } else if (!window._bokeh_failed_load) {\n",
       "        console.log(\"Bokeh: BokehJS failed to load within specified timeout.\");\n",
       "        window._bokeh_failed_load = true;\n",
       "      } else if (!force) {\n",
       "        var cell = $(\"#b0a4009e-bb6a-462f-bd49-073b026ae271\").parents('.cell').data().cell;\n",
       "        cell.output_area.append_execute_result(NB_LOAD_WARNING)\n",
       "      }\n",
       "  \n",
       "    }\n",
       "  \n",
       "    if (window._bokeh_is_loading === 0) {\n",
       "      console.log(\"Bokeh: BokehJS loaded, going straight to plotting\");\n",
       "      run_inline_js();\n",
       "    } else {\n",
       "      load_libs(js_urls, function() {\n",
       "        console.log(\"Bokeh: BokehJS plotting callback run at\", now());\n",
       "        run_inline_js();\n",
       "      });\n",
       "    }\n",
       "  }(this));\n",
       "</script>"
      ]
     },
     "metadata": {},
     "output_type": "display_data"
    }
   ],
   "source": [
    "p = figure(width=800, height=400, y_axis_type = \"log\", \n",
    "           tools=\"\", toolbar_location=\"above\", \n",
    "           y_axis_label = \"Seq count\", x_axis_label = \"Sample\")\n",
    "\n",
    "p.xaxis.axis_line_width = 3\n",
    "p.yaxis.axis_line_width = 3\n",
    "p.outline_line_color = None\n",
    "p.grid.grid_line_color = None\n",
    "\n",
    "source = ColumnDataSource(df)\n",
    "\n",
    "invisible_circle = Circle(x='x', y='count', \n",
    "                          fill_color='color', \n",
    "                          fill_alpha=0.5, \n",
    "                          line_color=\"color\", \n",
    "                          line_alpha = 0.5, size=8)\n",
    "\n",
    "visible_circle = Circle(x='x', y='count', \n",
    "                        fill_color='color', \n",
    "                        fill_alpha=1.0, \n",
    "                        line_color=\"color\")\n",
    "\n",
    "cr = p.add_glyph(source, \n",
    "                 invisible_circle, \n",
    "                 selection_glyph=visible_circle, \n",
    "                 nonselection_glyph=invisible_circle)\n",
    "\n",
    "l = p.line(x = df[\"x\"], \n",
    "           y = df[\"count\"], \n",
    "           line_width=3, \n",
    "           color='#F8766D')\n",
    "\n",
    "tooltip = \"\"\"\n",
    "    <div>\n",
    "        <span style=\"font-size: 17px; font-weight: bold;\">@SampleID </span>\n",
    "    </div>\n",
    "    <div>\n",
    "        <span style=\"font-size: 17px; font-weight: bold;\">@count </span>\n",
    "    </div>\n",
    "\"\"\"\n",
    "\n",
    "code = \"source.set('selected', cb_data['index']);\"\n",
    "callback = CustomJS(args={'source': source}, code=code)\n",
    "\n",
    "p.add_tools(HoverTool(tooltips=tooltip, callback=callback, renderers=[cr]),\n",
    "            BoxZoomTool(),\n",
    "            ResetTool())\n",
    "\n",
    "show(p)"
   ]
  },
  {
   "cell_type": "code",
   "execution_count": 9,
   "metadata": {
    "collapsed": true
   },
   "outputs": [],
   "source": [
    "!mv data/demult/C209.3_TF.R1.fq.gz data/demult/C209_3_TF.R1.fq.gz\n",
    "!mv data/demult/C209.3_TF.R2.fq.gz data/demult/C209_3_TF.R2.fq.gz\n",
    "!mv data/demult/C209.4_TF.R1.fq.gz data/demult/C209_4_TF.R1.fq.gz\n",
    "!mv data/demult/C209.4_TF.R2.fq.gz data/demult/C209_4_TF.R2.fq.gz"
   ]
  },
  {
   "cell_type": "code",
   "execution_count": 10,
   "metadata": {
    "collapsed": false
   },
   "outputs": [
    {
     "data": {
      "text/plain": [
       "[('C227_W', 226081),\n",
       " ('USP13A_CF', 220694),\n",
       " ('C560_PC', 211524),\n",
       " ('C280_S', 127067),\n",
       " ('C340_CF', 110776),\n",
       " ('C181_TF', 108153),\n",
       " ('8508_CF', 105777),\n",
       " ('USF6B_CF', 96555),\n",
       " ('C542_S', 95096),\n",
       " ('USP27A_CF', 90164)]"
      ]
     },
     "execution_count": 10,
     "metadata": {},
     "output_type": "execute_result"
    }
   ],
   "source": [
    "seq_cnt.most_common(10)"
   ]
  },
  {
   "cell_type": "code",
   "execution_count": 11,
   "metadata": {
    "collapsed": false
   },
   "outputs": [
    {
     "data": {
      "text/plain": [
       "(22, 4)"
      ]
     },
     "execution_count": 11,
     "metadata": {},
     "output_type": "execute_result"
    }
   ],
   "source": [
    "df[df[\"count\"] < 1000].shape"
   ]
  }
 ],
 "metadata": {
  "anaconda-cloud": {},
  "kernelspec": {
   "display_name": "Python 2",
   "language": "python",
   "name": "python2"
  },
  "language_info": {
   "codemirror_mode": {
    "name": "ipython",
    "version": 2
   },
   "file_extension": ".py",
   "mimetype": "text/x-python",
   "name": "python",
   "nbconvert_exporter": "python",
   "pygments_lexer": "ipython2",
   "version": "2.7.13"
  }
 },
 "nbformat": 4,
 "nbformat_minor": 0
}
