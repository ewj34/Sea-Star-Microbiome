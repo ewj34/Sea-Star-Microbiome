{
 "cells": [
  {
   "cell_type": "code",
   "execution_count": 2,
   "metadata": {
    "collapsed": true
   },
   "outputs": [],
   "source": [
    "%load_ext rpy2.ipython"
   ]
  },
  {
   "cell_type": "code",
   "execution_count": 4,
   "metadata": {
    "collapsed": false
   },
   "outputs": [],
   "source": [
    "%%R\n",
    "library(dplyr)\n",
    "library(readr)\n",
    "library(tidyr)\n",
    "library(ggplot2)\n",
    "library(phyloseq)"
   ]
  },
  {
   "cell_type": "code",
   "execution_count": 6,
   "metadata": {
    "collapsed": false
   },
   "outputs": [
    {
     "data": {
      "text/plain": [
       "phyloseq-class experiment-level object\n",
       "otu_table()   OTU Table:         [ 9292 taxa and 75 samples ]\n",
       "sample_data() Sample Data:       [ 75 samples by 7 sample variables ]\n",
       "tax_table()   Taxonomy Table:    [ 9292 taxa by 9 taxonomic ranks ]\n",
       "phy_tree()    Phylogenetic Tree: [ 9292 tips and 9288 internal nodes ]\n"
      ]
     },
     "metadata": {},
     "output_type": "display_data"
    }
   ],
   "source": [
    "%%R\n",
    "otu_tab = read_csv(\"data/EC_table.noMC.csv\") %>% {\n",
    "    rownames(.) = .$seq_id\n",
    "    .\n",
    "    } %>%\n",
    "    select(-seq_id) %>%\n",
    "    as.matrix %>%\n",
    "    otu_table(taxa_are_rows = TRUE)\n",
    "\n",
    "tax_tab = read_csv(\"data/tax_table.csv\") %>% {\n",
    "    rownames(.) = .$seq_id\n",
    "    .\n",
    "    } %>%\n",
    "    select(-seq_id) %>%\n",
    "    as.matrix %>%\n",
    "    tax_table\n",
    "\n",
    "sample_tab = read_csv(\"data/sample_data.csv\") %>% {\n",
    "    rownames(.) = .$sample\n",
    "    .\n",
    "    } %>%\n",
    "    select(-sample) %>%\n",
    "    data.frame %>%\n",
    "    sample_data\n",
    "\n",
    "tree = phy_tree(ape::read.tree(\"data/variants.tree\"))\n",
    "\n",
    "ps = phyloseq(otu_tab, tax_tab, sample_tab, tree) %>%\n",
    "    prune_samples((sampleSums(.) > 1000)&\n",
    "                  (sample_data(.)$star == \"star\"), .) %>%\n",
    "    transform_sample_counts(function(x) x / sum(x))\n",
    "        \n",
    "ps          "
   ]
  },
  {
   "cell_type": "code",
   "execution_count": 7,
   "metadata": {
    "collapsed": false
   },
   "outputs": [
    {
     "data": {
      "text/plain": [
       "# A tibble: 6 × 19\n",
       "          OTU   Sample Abundance Sample_number X96.Well.Plate.Location\n",
       "        <chr>    <chr>     <dbl>         <int>                   <chr>\n",
       "1  Sequence.8  C512_PC 0.9902242            83                 P1 - B8\n",
       "2 Sequence.36  C446_PC 0.9826398            72                 P1 - B7\n",
       "3  Sequence.8  C556_PC 0.9809805            86                 P1 - E8\n",
       "4 Sequence.16 X8567_PC 0.8383326            37                 P1 - G3\n",
       "5 Sequence.41 X8508_TF 0.8116402             9                 P1 - E1\n",
       "6 Sequence.24  C326_TF 0.7591402            68                 P1 - F6\n",
       "# ... with 14 more variables: Sample.Amount <chr>, Genus.Species <chr>,\n",
       "#   Sample.Type <chr>, star <chr>, location <chr>, Rank3 <fctr>, Rank2 <fctr>,\n",
       "#   Rank1 <fctr>, Rank7 <fctr>, Rank6 <fctr>, Rank5 <fctr>, Rank4 <fctr>,\n",
       "#   consensus <fctr>, count <fctr>\n"
      ]
     },
     "metadata": {},
     "output_type": "display_data"
    }
   ],
   "source": [
    "%%R\n",
    "mdf = psmelt(ps) %>% tbl_df\n",
    "head(mdf)"
   ]
  },
  {
   "cell_type": "code",
   "execution_count": 168,
   "metadata": {
    "collapsed": false
   },
   "outputs": [
    {
     "data": {
      "text/plain": [
       "# A tibble: 3 × 2\n",
       "       Rank1          m\n",
       "      <fctr>      <dbl>\n",
       "1   Bacteria 0.97416607\n",
       "2    Archaea 0.01354369\n",
       "3 Unassigned 0.01229023\n"
      ]
     },
     "metadata": {},
     "output_type": "display_data"
    }
   ],
   "source": [
    "%%R\n",
    "\n",
    "phyla = mdf %>%\n",
    "    group_by(Sample, Rank1) %>%\n",
    "    summarize(Abundance = sum(Abundance)) %>%\n",
    "    group_by(Rank1) %>%\n",
    "    summarize(m = mean(Abundance)) %>%\n",
    "    arrange(desc(m))\n",
    "\n",
    "phyla"
   ]
  },
  {
   "cell_type": "markdown",
   "metadata": {},
   "source": [
    "## Globbing Data by Phyla"
   ]
  },
  {
   "cell_type": "code",
   "execution_count": 10,
   "metadata": {
    "collapsed": false
   },
   "outputs": [],
   "source": [
    "%%R\n",
    "N = 6\n",
    "\n",
    "topN = mdf %>%\n",
    "    group_by(Sample.Type, Rank2) %>%\n",
    "    summarize(Abundance = sum(Abundance)) %>%\n",
    "    group_by(Rank2) %>%\n",
    "    summarize(m = mean(Abundance)) %>%\n",
    "    top_n(N) %>%\n",
    "    arrange(desc(m)) %>%\n",
    "    magrittr::extract2(\"Rank2\")"
   ]
  },
  {
   "cell_type": "code",
   "execution_count": 11,
   "metadata": {
    "collapsed": false
   },
   "outputs": [
    {
     "data": {
      "text/plain": [
       "Source: local data frame [525 x 4]\n",
       "Groups: Sample, Sample.Type [?]\n",
       "\n",
       "   Sample Sample.Type    Rank2.other    Abundance\n",
       "    <chr>       <chr>          <chr>        <dbl>\n",
       "1  C10_CF          CF Actinobacteria 0.0301802431\n",
       "2  C10_CF          CF  Bacteroidetes 0.0189325136\n",
       "3  C10_CF          CF     Firmicutes 0.0160332542\n",
       "4  C10_CF          CF          Other 0.0149503982\n",
       "5  C10_CF          CF Proteobacteria 0.9190303200\n",
       "6  C10_CF          CF   Spirochaetae 0.0002794467\n",
       "7  C10_CF          CF    Tenericutes 0.0005938242\n",
       "8  C11_PC          PC Actinobacteria 0.0137041516\n",
       "9  C11_PC          PC  Bacteroidetes 0.0055421201\n",
       "10 C11_PC          PC     Firmicutes 0.0073055220\n",
       "# ... with 515 more rows\n"
      ]
     },
     "metadata": {},
     "output_type": "display_data"
    }
   ],
   "source": [
    "%%R\n",
    "\n",
    "mdf.other = mdf %>%\n",
    "    mutate(Rank2.other = ifelse(Rank2 %in% topN, as.character(Rank2), \"Other\")) %>%\n",
    "    group_by(Sample, Sample.Type, Rank2.other) %>%\n",
    "    summarize(Abundance = sum(Abundance))\n",
    "\n",
    "mdf.other"
   ]
  },
  {
   "cell_type": "markdown",
   "metadata": {},
   "source": [
    "## By Tissue Type"
   ]
  },
  {
   "cell_type": "code",
   "execution_count": 66,
   "metadata": {
    "collapsed": false
   },
   "outputs": [
    {
     "data": {
      "text/plain": [
       "Source: local data frame [28 x 6]\n",
       "Groups: Rank2.other [7]\n",
       "\n",
       "      Rank2.other Sample.Type        avg         sd        sem proportion\n",
       "            <chr>       <chr>      <dbl>      <dbl>      <dbl>      <dbl>\n",
       "1  Proteobacteria          CF 0.83131956 0.11662404 0.02675539      83.13\n",
       "2  Proteobacteria           G 0.72643171 0.23457279 0.06056643      72.64\n",
       "3  Proteobacteria          TF 0.70113887 0.24159959 0.05542675      70.11\n",
       "4  Proteobacteria          PC 0.64588352 0.37018348 0.07892338      64.59\n",
       "5     Tenericutes          PC 0.27658590 0.40748124 0.08687529      27.66\n",
       "6    Spirochaetae          TF 0.12867295 0.18292316 0.04196545      12.87\n",
       "7    Spirochaetae           G 0.12033367 0.24353930 0.06288158      12.03\n",
       "8           Other           G 0.06483880 0.13852764 0.03576768       6.48\n",
       "9     Tenericutes          TF 0.05661491 0.19036634 0.04367303       5.66\n",
       "10    Tenericutes           G 0.05237079 0.08323152 0.02149029       5.24\n",
       "# ... with 18 more rows\n"
      ]
     },
     "metadata": {},
     "output_type": "display_data"
    }
   ],
   "source": [
    "%%R\n",
    "\n",
    "mdf.summary = mdf.other %>%\n",
    "    group_by(Rank2.other,Sample.Type) %>%\n",
    "    summarise(avg = mean(Abundance), \n",
    "              sd = sd(Abundance), \n",
    "              sem = sd/sqrt(length(Abundance)),\n",
    "              proportion = round(avg*100,2)) %>%\n",
    "    arrange(desc(avg))\n",
    "\n",
    "mdf.summary"
   ]
  },
  {
   "cell_type": "code",
   "execution_count": 69,
   "metadata": {
    "collapsed": false
   },
   "outputs": [
    {
     "data": {
      "image/png": "[encoded data removed]"
     },
     "metadata": {},
     "output_type": "display_data"
    }
   ],
   "source": [
    "%%R -w 800 -h 500\n",
    "\n",
    "Tissuenames = c(\n",
    "                    `PC` = \"Pyloric Caeca\",\n",
    "                    `G` = \"Gonads\",\n",
    "                    `CF` = \"Coelomic Fluid\",\n",
    "                    `TF` = \"Body Wall\"\n",
    "                    )\n",
    "\n",
    "p2 = ggplot(mdf.summary, aes(x= reorder(Rank2.other,-avg), y = avg)) \n",
    "\n",
    "p2 = p2 + geom_bar(stat=\"identity\",fill=\"white\", colour=\"black\")\n",
    "\n",
    "p2 = p2 + facet_wrap(~Sample.Type,scales = \"free_y\",labeller = as_labeller(Tissuenames)) + xlab(\"Sample Type\") + ylab(\"Relative Proportion\")\n",
    "\n",
    "p2 = p2 + theme_bw() + theme(axis.text.x = element_text(angle = 90, hjust = 1, vjust = 0.25, size = 15),\n",
    "                           text=element_text(size=17, color=\"black\", family=\"Times New Roman\"),\n",
    "                           legend.position=\"none\",\n",
    "                           axis.title.x=element_blank(),\n",
    "                           axis.title.y=element_text(margin=margin(0,15,0,0)))\n",
    "\n",
    "p2 = p2 + geom_point(aes(y = avg), data = mdf.summary) +\n",
    "    geom_errorbar(aes(y = avg, ymin = avg-(sem), ymax = avg+(sem)), \n",
    "                color = \"black\", width = 0.2, data = mdf.summary)\n",
    "\n",
    "p2 = p2 + scale_y_continuous(limits = c(0, 1))\n",
    "\n",
    "p2 = p2 + geom_text(aes(x=Rank2.other, label=proportion), vjust = -2, size=5) \n",
    "\n",
    "p2 = p2 + ylab(\"Relative Proportion\") \n",
    "\n",
    "p2"
   ]
  },
  {
   "cell_type": "markdown",
   "metadata": {},
   "source": [
    "## All Tissues Grouped"
   ]
  },
  {
   "cell_type": "code",
   "execution_count": 81,
   "metadata": {
    "collapsed": false
   },
   "outputs": [
    {
     "data": {
      "text/plain": [
       "# A tibble: 7 × 5\n",
       "     Rank2.other        avg         sd         sem proportion\n",
       "           <chr>      <dbl>      <dbl>       <dbl>      <dbl>\n",
       "1 Proteobacteria 0.72296831 0.26778875 0.030921581      72.30\n",
       "2    Tenericutes 0.10883835 0.26360130 0.030438056      10.88\n",
       "3   Spirochaetae 0.06971469 0.15332619 0.017704583       6.97\n",
       "4          Other 0.04387990 0.08933443 0.010315451       4.39\n",
       "5 Actinobacteria 0.02310526 0.01797416 0.002075477       2.31\n",
       "6  Bacteroidetes 0.01768949 0.03209967 0.003706551       1.77\n",
       "7     Firmicutes 0.01380400 0.01836013 0.002120045       1.38\n"
      ]
     },
     "metadata": {},
     "output_type": "display_data"
    }
   ],
   "source": [
    "%%R\n",
    "\n",
    "mdf.summary = mdf.other %>%\n",
    "    group_by(Rank2.other) %>%\n",
    "    summarise(avg = mean(Abundance), \n",
    "              sd = sd(Abundance), \n",
    "              sem = sd(Abundance)/sqrt(length(Abundance)),\n",
    "              proportion = round(avg*100,2)) %>%\n",
    "    arrange(desc(avg))\n",
    "\n",
    "mdf.summary"
   ]
  },
  {
   "cell_type": "code",
   "execution_count": 57,
   "metadata": {
    "collapsed": true
   },
   "outputs": [],
   "source": [
    "%%R\n",
    "\n",
    "d = mdf %>%\n",
    "    group_by(Sample, Rank2, Sample.Type, Genus.Species) %>%\n",
    "    summarize(Abundance = sum(Abundance)) %>%\n",
    "    filter(Rank2 %in% topN) \n",
    "\n",
    "d$Rank2 = factor(d$Rank2, levels = topN)"
   ]
  },
  {
   "cell_type": "code",
   "execution_count": 60,
   "metadata": {
    "collapsed": false
   },
   "outputs": [
    {
     "data": {
      "text/plain": [
       "Source: local data frame [6 x 5]\n",
       "Groups: Sample, Rank2, Sample.Type [6]\n",
       "\n",
       "  Sample          Rank2 Sample.Type       Genus.Species    Abundance\n",
       "   <chr>         <fctr>       <chr>               <chr>        <dbl>\n",
       "1 C10_CF Actinobacteria          CF Hippasteria spinosa 0.0301802431\n",
       "2 C10_CF  Bacteroidetes          CF Hippasteria spinosa 0.0189325136\n",
       "3 C10_CF     Firmicutes          CF Hippasteria spinosa 0.0160332542\n",
       "4 C10_CF Proteobacteria          CF Hippasteria spinosa 0.9190303200\n",
       "5 C10_CF   Spirochaetae          CF Hippasteria spinosa 0.0002794467\n",
       "6 C10_CF    Tenericutes          CF Hippasteria spinosa 0.0005938242\n"
      ]
     },
     "metadata": {},
     "output_type": "display_data"
    }
   ],
   "source": [
    "%%R\n",
    "head(d)"
   ]
  },
  {
   "cell_type": "markdown",
   "metadata": {},
   "source": [
    "## Making Plots"
   ]
  },
  {
   "cell_type": "code",
   "execution_count": 64,
   "metadata": {
    "collapsed": false
   },
   "outputs": [
    {
     "data": {
      "image/png": "[encoded data removed]"
     },
     "metadata": {},
     "output_type": "display_data"
    }
   ],
   "source": [
    "%%R -w 1000 -h 600\n",
    "\n",
    "## plot 1\n",
    "\n",
    "p = ggplot(d, aes(x = Sample.Type, y = Abundance, group = Rank2))\n",
    "\n",
    "p = p + geom_point(size = 2, position = position_jitter(h = 0, w = 0.3))\n",
    "\n",
    "p = p + facet_wrap(~Rank2, ncol = 3, scales = \"free_y\") + xlab(\"Sample Type\") + ylab(\"Relative Proportion\")\n",
    "\n",
    "p = p + theme_bw() + theme(axis.text.x = element_text(angle = 90, hjust = 1, vjust = 0.25, size = 15),\n",
    "                           text=element_text(size=17, color=\"black\", family=\"Times New Roman\"),\n",
    "                           legend.key = element_blank(),\n",
    "                           legend.position = \"none\",\n",
    "                           axis.title.x=element_blank(),\n",
    "                           panel.grid.major = element_blank(),\n",
    "                           panel.grid.minor = element_blank(),\n",
    "                           axis.title.y=element_text(margin=margin(0,10,0,0)))\n",
    "\n",
    "p = p + stat_summary(fun.y = mean, fun.ymin = mean, fun.ymax = mean, geom = \"crossbar\", width = 0.5)\n",
    "                                 \n",
    "p = p + scale_x_discrete(breaks=c(\"PC\", \"G\", \"TF\",\"CF\"),\n",
    "                      labels=c(\"Pyloric Caeca\", \"Gonads\", \"Body Wall\",\"Coelomic Fluid\"))\n",
    "\n",
    "p\n",
    "\n",
    "## plot 2\n",
    "\n",
    "p2 = ggplot(mdf.summary, aes(x= reorder(Rank2.other,-avg), y = avg)) \n",
    "\n",
    "p2 = p2 + geom_bar(stat=\"identity\",fill=\"white\", colour=\"black\")\n",
    "\n",
    "p2 = p2 + theme_bw() + theme(text=element_text(size=17, color=\"black\",family =\"Times New Roman\"),\n",
    "                           legend.position=\"none\",\n",
    "                           axis.title.x=element_blank(),\n",
    "                           axis.title.y=element_text(margin=margin(0,15,0,0)))\n",
    "\n",
    "p2 = p2 + geom_point(aes(y = avg), data = mdf.summary) +\n",
    "    geom_errorbar(aes(y = avg, ymin = avg-(2*sem), ymax = avg+(*sem)), \n",
    "                color = \"black\", width = 0.2, data = mdf.summary)\n",
    "\n",
    "p2 = p2 + scale_y_continuous(limits = c(0, 1))\n",
    "\n",
    "p2 = p2 + geom_text(aes(x=Rank2.other, label=proportion), vjust = -2, size=5) \n",
    "\n",
    "p2 = p2 + ylab(\"Relative Proportion\") \n",
    "\n",
    "p2\n",
    "\n",
    "gridExtra::grid.arrange(p2,p, nrow = 2, heights=c(2, 4))"
   ]
  }
 ],
 "metadata": {
  "anaconda-cloud": {},
  "kernelspec": {
   "display_name": "Python 2",
   "language": "python",
   "name": "python2"
  },
  "language_info": {
   "codemirror_mode": {
    "name": "ipython",
    "version": 2
   },
   "file_extension": ".py",
   "mimetype": "text/x-python",
   "name": "python",
   "nbconvert_exporter": "python",
   "pygments_lexer": "ipython2",
   "version": "2.7.13"
  }
 },
 "nbformat": 4,
 "nbformat_minor": 0
}
