{
 "cells": [
  {
   "cell_type": "code",
   "execution_count": 1,
   "metadata": {
    "collapsed": false
   },
   "outputs": [],
   "source": [
    "%load_ext rpy2.ipython"
   ]
  },
  {
   "cell_type": "code",
   "execution_count": 3,
   "metadata": {
    "collapsed": false
   },
   "outputs": [],
   "source": [
    "%%R\n",
    "library(vegan)\n",
    "library(dplyr)\n",
    "library(readr)\n",
    "library(phyloseq)\n",
    "library(ggplot2)\n",
    "library(grid)"
   ]
  },
  {
   "cell_type": "code",
   "execution_count": 5,
   "metadata": {
    "collapsed": false
   },
   "outputs": [
    {
     "data": {
      "text/plain": [
       "phyloseq-class experiment-level object\n",
       "otu_table()   OTU Table:         [ 9467 taxa and 86 samples ]\n",
       "sample_data() Sample Data:       [ 86 samples by 7 sample variables ]\n"
      ]
     },
     "metadata": {},
     "output_type": "display_data"
    }
   ],
   "source": [
    "%%R\n",
    "otu_tab = read_csv(\"data/EC_table.noMC.csv\") %>% {\n",
    "    rownames(.) = .$seq_id\n",
    "    .\n",
    "    } %>%\n",
    "    select(-seq_id) %>%\n",
    "    as.matrix %>%\n",
    "    otu_table(taxa_are_rows = TRUE)\n",
    "\n",
    "sample_tab = read_csv(\"data/sample_data.csv\") %>% {\n",
    "    rownames(.) = .$sample\n",
    "    .\n",
    "    } %>%\n",
    "    select(-sample) %>%\n",
    "    data.frame %>%\n",
    "    sample_data\n",
    "\n",
    "\n",
    "ps = phyloseq(otu_tab, sample_tab) %>%\n",
    "    prune_samples((sampleSums(.) > 1000)&\n",
    "                  (sample_data(.)$star %in% c(\"star\", \"W\")), .)\n",
    "  \n",
    "ps   "
   ]
  },
  {
   "cell_type": "code",
   "execution_count": 6,
   "metadata": {
    "collapsed": false
   },
   "outputs": [
    {
     "data": {
      "text/plain": [
       "# A tibble: 184 × 8\n",
       "     Sample Sample_number X96.Well.Plate.Location Sample.Amount\n",
       "      <chr>         <int>                   <chr>         <chr>\n",
       "1    CF1_CF             1                P1 - E12          1 mL\n",
       "2    CF2_CF             2                P1 - F12          1 mL\n",
       "3  X8106_PC             3                 P1 - A1      0.1145 g\n",
       "4  X8532_CF             4                 P2 - A1          2 mL\n",
       "5  X8533_TF             5                 P1 - B1       0.109 g\n",
       "6   X8534_G             6                 P1 - C1      0.1306 g\n",
       "7  X8535_PC             7                 P1 - D1      0.1013 g\n",
       "8  X8507_CF             8                 P2 - B1          2 mL\n",
       "9  X8508_TF             9                 P1 - E1      0.1078 g\n",
       "10  X8509_G            10                 P1 - F1      0.1069 g\n",
       "# ... with 174 more rows, and 4 more variables: Genus.Species <chr>,\n",
       "#   Sample.Type <chr>, star <chr>, location <chr>\n"
      ]
     },
     "metadata": {},
     "output_type": "display_data"
    }
   ],
   "source": [
    "%%R\n",
    "sample_tab %>% add_rownames(\"Sample\")"
   ]
  },
  {
   "cell_type": "markdown",
   "metadata": {},
   "source": [
    "## Rarefaction Curve Calculations"
   ]
  },
  {
   "cell_type": "code",
   "execution_count": 16,
   "metadata": {
    "collapsed": true
   },
   "outputs": [],
   "source": [
    "%%R\n",
    "rc = function(...){\n",
    "    ff = \"/dev/null\" #tempfile()\n",
    "    png(filename=ff)\n",
    "    res = rarecurve(...)\n",
    "    dev.off()\n",
    "    unlink(ff)\n",
    "    res\n",
    "}"
   ]
  },
  {
   "cell_type": "code",
   "execution_count": 17,
   "metadata": {
    "collapsed": false
   },
   "outputs": [
    {
     "data": {
      "text/plain": [
       "[1] 160056\n"
      ]
     },
     "metadata": {},
     "output_type": "display_data"
    }
   ],
   "source": [
    "%%R\n",
    "rare.max = sample_sums(ps) %>% max\n",
    "rare.max"
   ]
  },
  {
   "cell_type": "code",
   "execution_count": 18,
   "metadata": {
    "collapsed": false
   },
   "outputs": [],
   "source": [
    "%%R\n",
    "otu_tab_raref = otu_table(ps) %>% as.matrix %>% t"
   ]
  },
  {
   "cell_type": "code",
   "execution_count": 19,
   "metadata": {
    "collapsed": false
   },
   "outputs": [],
   "source": [
    "%%R\n",
    "rare.data = rc(otu_tab_raref, step = 100, sample = 50, label = FALSE)\n",
    "names(rare.data) = rownames(otu_tab_raref)"
   ]
  },
  {
   "cell_type": "code",
   "execution_count": 21,
   "metadata": {
    "collapsed": false
   },
   "outputs": [],
   "source": [
    "%%R -h 500 -w 750\n",
    "get_df = function(l) {\n",
    "    data.frame(N = names(l), count = l) %>% \n",
    "        tbl_df %>%\n",
    "        mutate(N = tidyr::extract_numeric(N))\n",
    "}\n",
    "\n",
    "rare_df = plyr::ldply(rare.data, get_df, .id = \"Sample\")\n",
    "rare_df = rare_df %>%\n",
    "    left_join(sample_tab %>% add_rownames(\"Sample\"))"
   ]
  },
  {
   "cell_type": "markdown",
   "metadata": {},
   "source": [
    "## Shannon Diversity Calculations"
   ]
  },
  {
   "cell_type": "code",
   "execution_count": 22,
   "metadata": {
    "collapsed": true
   },
   "outputs": [],
   "source": [
    "%%R\n",
    "sha = estimate_richness(ps, split = TRUE, measures = \"Shannon\")\n",
    "sha$Sample = rownames(sha)\n",
    "\n",
    "dfsha = sha %>% left_join(sample_tab %>%  add_rownames(\"Sample\"))\n",
    "\n",
    "ordsha = dfsha %>% group_by(Sample.Type) %>%\n",
    "    summarize(med.sha = median(Shannon)) %>%\n",
    "    arrange(desc(med.sha)) %>%\n",
    "    magrittr::extract2(\"Sample.Type\")\n",
    "\n",
    "dfsha$Sample.Type = factor(dfsha$Sample.Type, levels = ordsha)"
   ]
  },
  {
   "cell_type": "code",
   "execution_count": 59,
   "metadata": {
    "collapsed": false
   },
   "outputs": [
    {
     "data": {
      "text/plain": [
       "# A tibble: 5 × 5\n",
       "  Sample.Type   median     mean        sd        sem\n",
       "       <fctr>    <dbl>    <dbl>     <dbl>      <dbl>\n",
       "1          CF 4.029092 4.075887 0.4238032 0.09722712\n",
       "2           W 4.229545 3.967992 0.5188716 0.15644567\n",
       "3           G 2.961268 2.958140 0.7944776 0.20513324\n",
       "4          TF 2.988083 2.635621 0.9984645 0.22906345\n",
       "5          PC 2.960140 2.521083 1.2614206 0.26893577\n"
      ]
     },
     "metadata": {},
     "output_type": "display_data"
    }
   ],
   "source": [
    "%%R\n",
    "stats = dfsha %>%\n",
    "    group_by(Sample.Type) %>%\n",
    "    summarize(median = median(Shannon), \n",
    "              mean = mean(Shannon),\n",
    "              sd = sd(Shannon),\n",
    "              sem = sd(Shannon/sqrt(length(Shannon)))) %>%\n",
    "    arrange(desc(mean))\n",
    "stats"
   ]
  },
  {
   "cell_type": "markdown",
   "metadata": {},
   "source": [
    "## Chao1 Diversity Calculations"
   ]
  },
  {
   "cell_type": "code",
   "execution_count": 31,
   "metadata": {
    "collapsed": false
   },
   "outputs": [],
   "source": [
    "%%R\n",
    "\n",
    "chao = estimate_richness(ps, split = TRUE, measures = \"Chao1\")\n",
    "chao$Sample = rownames(chao)\n",
    "\n",
    "dfchao = chao %>% left_join(sample_tab %>%  add_rownames(\"Sample\"))\n",
    "\n",
    "ordchao = dfchao %>% group_by(Sample.Type) %>%\n",
    "    summarize(med.chao = median(Chao1)) %>%\n",
    "    arrange(desc(med.chao)) %>%\n",
    "    magrittr::extract2(\"Sample.Type\")\n",
    "\n",
    "\n",
    "dfchao$Sample.Type = factor(dfchao$Sample.Type, levels = ordchao)"
   ]
  },
  {
   "cell_type": "code",
   "execution_count": 32,
   "metadata": {
    "collapsed": false
   },
   "outputs": [
    {
     "data": {
      "text/plain": [
       "# A tibble: 5 × 4\n",
       "  Sample.Type `median(Chao1)` `mean(Chao1)` `max(Chao1)`\n",
       "       <fctr>           <dbl>         <dbl>        <dbl>\n",
       "1          CF             173      208.6316          595\n",
       "2           W             168      173.3636          374\n",
       "3          PC             107      105.5909          243\n",
       "4          TF              99      123.8947          431\n",
       "5           G              90      112.4667          417\n"
      ]
     },
     "metadata": {},
     "output_type": "display_data"
    }
   ],
   "source": [
    "%%R\n",
    "dfchao %>%\n",
    "    group_by(Sample.Type) %>%\n",
    "    summarize(median(Chao1),mean(Chao1),max(Chao1))"
   ]
  },
  {
   "cell_type": "markdown",
   "metadata": {},
   "source": [
    "## Simpson Diversity Calculations"
   ]
  },
  {
   "cell_type": "code",
   "execution_count": 50,
   "metadata": {
    "collapsed": true
   },
   "outputs": [],
   "source": [
    "%%R\n",
    "simp = estimate_richness(ps, split = TRUE, measures = \"Simpson\")\n",
    "simp$Sample = rownames(simp)\n",
    "\n",
    "dfsimp = simp %>% left_join(sample_tab %>% add_rownames(\"Sample\"))\n",
    "\n",
    "ordsimp = dfsimp %>% group_by(Sample.Type) %>%\n",
    "    summarize(med.simp = median(Simpson)) %>%\n",
    "    arrange(desc(med.simp)) %>%\n",
    "    magrittr::extract2(\"Sample.Type\")\n",
    "\n",
    "dfsimp$Sample.Type = factor(dfsimp$Sample.Type, levels = ordsimp)"
   ]
  },
  {
   "cell_type": "markdown",
   "metadata": {},
   "source": [
    "## Making the Plots"
   ]
  },
  {
   "cell_type": "code",
   "execution_count": 27,
   "metadata": {
    "collapsed": false
   },
   "outputs": [
    {
     "data": {
      "image/png": "[encoded data removed]"
     },
     "metadata": {},
     "output_type": "display_data"
    }
   ],
   "source": [
    "%%R -h 400 -w 1000\n",
    "\n",
    "sampletype = c(\n",
    "                    `PC` = \"Pyloric Caeca\",\n",
    "                    `G` = \"Gonads\",\n",
    "                    `CF` = \"Coelomic Fluid\",\n",
    "                    `TF` = \"Body Wall\",\n",
    "                    `W`  = \"Sea Water\"\n",
    "                    )\n",
    "## plot 1\n",
    "\n",
    "p = ggplot(dfsha, aes(x = Sample.Type, y = Shannon))\n",
    "\n",
    "p = p + geom_boxplot() + ylab(\"Shannon Index\") + coord_flip()\n",
    "\n",
    "p = p + geom_point(size = 2,# aes(color = Sample.Type),  \n",
    "                   position = position_jitter(h = 0, w = 0.30))\n",
    "\n",
    "p = p + theme_bw() + theme(text=element_text(size=18, color=\"black\",family=\"Times New Roman\"),\n",
    "                           legend.key = element_blank(),\n",
    "                           legend.position = \"none\",\n",
    "                           axis.title.y=element_blank(),\n",
    "                           panel.grid.major = element_blank(),\n",
    "                           panel.grid.minor = element_blank())\n",
    "\n",
    "p = p + scale_x_discrete(breaks=c(\"PC\", \"G\", \"TF\",\"CF\",\"W\"),\n",
    "                      labels=c(\"Pyloric Caeca\", \"Gonads\", \"Body Wall\",\"Coelomic Fluid\",\"Sea Water\"))\n",
    "\n",
    "#p = p + scale_colour_manual(labels = sampletype,\n",
    "#                              values = c(\"PC\" = \"forestgreen\",\n",
    "#                                       \"G\" = \"khaki1\",\n",
    "#                                       \"CF\" = \"steelblue1\",\n",
    "#                                       \"TF\" = \"grey\"))\n",
    "p\n",
    "\n",
    "## plot 2\n",
    "\n",
    "#p2 = ggplot(dfsimp, aes(x = Sample.Type, y = Simpson))\n",
    "\n",
    "#p2 = p2 + geom_boxplot() + ylab(\"Simpson Index\") + coord_flip()\n",
    "\n",
    "#p2 = p2 + geom_point(size = 1,# aes(color = \"black\"),  \n",
    "#                   position = position_jitter(h = 0, w = 0.30))\n",
    "\n",
    "\n",
    "#p2 = p2 + theme_bw() + theme(text=element_text(size=18, color=\"black\",family=\"Times New Roman\"),\n",
    "#                           legend.key = element_blank(),\n",
    "#                           axis.title.y=element_blank(),\n",
    "#                           legend.position=\"none\",\n",
    "#                           panel.grid.major = element_blank(),\n",
    "#                           panel.grid.minor = element_blank())\n",
    "\n",
    "#p2 = p2 + scale_x_discrete(breaks=c(\"PC\", \"G\", \"TF\",\"CF\",\"W\",\"S\"),\n",
    " #                     labels=c(\"Pyloric Caeca\", \"Gonads\", \"Epidermis\",\"Coelomic Fluid\",\n",
    " #                              \"Sea Water\",\"Sediment\"))\n",
    "\n",
    "#p2\n",
    "\n",
    "## plot 3\n",
    "\n",
    "p3 = ggplot(rare_df, aes(x = N, y = count, group = Sample)) + labs(color = \"Sample Type\")\n",
    "\n",
    "p3 = p3 + geom_line(size=1,aes(color = Sample.Type)) + ylab(\"No. of RSV\") + xlab(\"Number of Amplicons\") \n",
    "\n",
    "p3 = p3 + theme_bw() + theme(text=element_text(size=18, color=\"black\",family=\"Times New Roman\"),\n",
    "                           legend.key = element_blank(),\n",
    "                           legend.key.size = unit(0.7, \"cm\"),\n",
    "                           panel.grid.major = element_blank(),\n",
    "                           panel.grid.minor = element_blank(),\n",
    "                           legend.justification=c(0.9,0.9), legend.position=c(0.96,0.96))\n",
    "\n",
    "p3 = p3 + scale_y_continuous(breaks = seq(0,2000,200)) + xlim(0,80000)\n",
    "\n",
    "\n",
    "p3 = p3 + scale_colour_manual(labels = sampletype,\n",
    "                              values = c(\"PC\" = \"forestgreen\",\n",
    "                                       \"G\" = \"khaki1\",\n",
    "                                       \"CF\" = \"steelblue1\",\n",
    "                                       \"TF\" = \"grey\",\n",
    "                                        \"W\" = \"tomato1\"))\n",
    "\n",
    "p3\n",
    "\n",
    "## plot 4\n",
    "\n",
    "\n",
    "#p4 = ggplot(dfchao, aes(x = Sample.Type, y = Chao1))\n",
    "\n",
    "#p4 = p4 + geom_boxplot() + ylab(\"Chao1 Index\") + coord_flip()\n",
    "\n",
    "#p4 = p4 + geom_point(size = 1, position = position_jitter(h = 0, w = 0.30))\n",
    "\n",
    "#p4 = p4 + theme_bw() + theme(text=element_text(size=18, color=\"black\",family=\"Times New Roman\"),\n",
    " #                          legend.key = element_blank(),\n",
    " #                          axis.title.y=element_blank(),\n",
    " #                          legend.position=\"none\",\n",
    " #                          panel.grid.major = element_blank(),\n",
    " #                          panel.grid.minor = element_blank())\n",
    "\n",
    "#p4 = p4 + scale_x_discrete(breaks=c(\"PC\", \"G\", \"TF\",\"CF\",\"W\",\"S\"),\n",
    " #                     labels=c(\"Pyloric Caeca\", \"Gonads\", \"Epidermis\",\"Coelomic Fluid\",\n",
    " #                              \"Sea Water\",\"Sediment\"))\n",
    "\n",
    "#p4 = p4 + scale_y_continuous(breaks = seq(0,2000,200))\n",
    "\n",
    "#p4\n",
    "\n",
    "gridExtra::grid.arrange(p3,p, ncol=2, nrow = 1) \n",
    "             #layout_matrix = rbind(c(1,1), c(3,2)))\n",
    "\n"
   ]
  }
 ],
 "metadata": {
  "anaconda-cloud": {},
  "kernelspec": {
   "display_name": "Python 2",
   "language": "python",
   "name": "python2"
  },
  "language_info": {
   "codemirror_mode": {
    "name": "ipython",
    "version": 2
   },
   "file_extension": ".py",
   "mimetype": "text/x-python",
   "name": "python",
   "nbconvert_exporter": "python",
   "pygments_lexer": "ipython2",
   "version": "2.7.13"
  }
 },
 "nbformat": 4,
 "nbformat_minor": 0
}
